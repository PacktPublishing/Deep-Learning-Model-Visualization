{
  "nbformat": 4,
  "nbformat_minor": 0,
  "metadata": {
    "colab": {
      "provenance": []
    },
    "kernelspec": {
      "name": "python3",
      "display_name": "Python 3"
    },
    "language_info": {
      "name": "python"
    },
    "widgets": {
      "application/vnd.jupyter.widget-state+json": {
        "03d52c053681418589add3e758ea6b0b": {
          "model_module": "bqplot",
          "model_name": "FigureModel",
          "model_module_version": "^0.5",
          "state": {
            "_dom_classes": [],
            "_model_module": "bqplot",
            "_model_module_version": "^0.5",
            "_model_name": "FigureModel",
            "_view_count": null,
            "_view_module": "bqplot",
            "_view_module_version": "^0.5",
            "_view_name": "Figure",
            "animation_duration": 0,
            "axes": [
              "IPY_MODEL_7bcfa7a527d24e449429966f0c66e708",
              "IPY_MODEL_675450e381f543ffae1de9f35b49282d"
            ],
            "background_style": {},
            "fig_margin": {
              "top": 60,
              "bottom": 60,
              "left": 60,
              "right": 60
            },
            "interaction": null,
            "layout": "IPY_MODEL_aa1015fb8379438780974cfbf4c60171",
            "legend_location": "top-right",
            "legend_style": {},
            "legend_text": {},
            "marks": [
              "IPY_MODEL_1b8ba1796a444f5eb31c844c78ea1ed4"
            ],
            "max_aspect_ratio": 100,
            "min_aspect_ratio": 0.01,
            "padding_x": 0,
            "padding_y": 0.025,
            "pixel_ratio": null,
            "scale_x": "IPY_MODEL_3493fdd22ba24377b04a66d8a50589f0",
            "scale_y": "IPY_MODEL_1793c7cf424c4fabb60fa30096f5f3ea",
            "theme": "classic",
            "title": "",
            "title_style": {}
          }
        },
        "7bcfa7a527d24e449429966f0c66e708": {
          "model_module": "bqplot",
          "model_name": "AxisModel",
          "model_module_version": "^0.5",
          "state": {
            "_model_module": "bqplot",
            "_model_module_version": "^0.5",
            "_model_name": "AxisModel",
            "_view_count": null,
            "_view_module": "bqplot",
            "_view_module_version": "^0.5",
            "_view_name": "Axis",
            "color": null,
            "grid_color": null,
            "grid_lines": "solid",
            "label": "",
            "label_color": null,
            "label_location": "middle",
            "label_offset": null,
            "num_ticks": null,
            "offset": {},
            "orientation": "horizontal",
            "scale": "IPY_MODEL_e085493133664c46b0e27fa9e564e7ef",
            "side": "bottom",
            "tick_format": null,
            "tick_labels": {},
            "tick_rotate": 0,
            "tick_style": {},
            "tick_values": null,
            "visible": true
          }
        },
        "675450e381f543ffae1de9f35b49282d": {
          "model_module": "bqplot",
          "model_name": "AxisModel",
          "model_module_version": "^0.5",
          "state": {
            "_model_module": "bqplot",
            "_model_module_version": "^0.5",
            "_model_name": "AxisModel",
            "_view_count": null,
            "_view_module": "bqplot",
            "_view_module_version": "^0.5",
            "_view_name": "Axis",
            "color": null,
            "grid_color": null,
            "grid_lines": "solid",
            "label": "",
            "label_color": null,
            "label_location": "middle",
            "label_offset": null,
            "num_ticks": null,
            "offset": {},
            "orientation": "vertical",
            "scale": "IPY_MODEL_7f5c801317a041e59988137eab0f6b30",
            "side": "left",
            "tick_format": null,
            "tick_labels": {},
            "tick_rotate": 0,
            "tick_style": {},
            "tick_values": null,
            "visible": true
          }
        },
        "aa1015fb8379438780974cfbf4c60171": {
          "model_module": "@jupyter-widgets/base",
          "model_name": "LayoutModel",
          "model_module_version": "1.2.0",
          "state": {
            "_model_module": "@jupyter-widgets/base",
            "_model_module_version": "1.2.0",
            "_model_name": "LayoutModel",
            "_view_count": null,
            "_view_module": "@jupyter-widgets/base",
            "_view_module_version": "1.2.0",
            "_view_name": "LayoutView",
            "align_content": null,
            "align_items": null,
            "align_self": null,
            "border": null,
            "bottom": null,
            "display": null,
            "flex": null,
            "flex_flow": null,
            "grid_area": null,
            "grid_auto_columns": null,
            "grid_auto_flow": null,
            "grid_auto_rows": null,
            "grid_column": null,
            "grid_gap": null,
            "grid_row": null,
            "grid_template_areas": null,
            "grid_template_columns": null,
            "grid_template_rows": null,
            "height": "400px",
            "justify_content": null,
            "justify_items": null,
            "left": null,
            "margin": null,
            "max_height": null,
            "max_width": null,
            "min_height": null,
            "min_width": null,
            "object_fit": null,
            "object_position": null,
            "order": null,
            "overflow": null,
            "overflow_x": null,
            "overflow_y": null,
            "padding": null,
            "right": null,
            "top": null,
            "visibility": null,
            "width": "800px"
          }
        },
        "1b8ba1796a444f5eb31c844c78ea1ed4": {
          "model_module": "bqplot",
          "model_name": "BarsModel",
          "model_module_version": "^0.5",
          "state": {
            "_model_module": "bqplot",
            "_model_module_version": "^0.5",
            "_model_name": "BarsModel",
            "_view_count": null,
            "_view_module": "bqplot",
            "_view_module_version": "^0.5",
            "_view_name": "Bars",
            "align": "center",
            "apply_clip": true,
            "base": 0,
            "color": null,
            "color_mode": "auto",
            "colors": [
              "steelblue"
            ],
            "display_legend": false,
            "enable_hover": true,
            "fill": true,
            "interactions": {
              "click": "select",
              "hover": "tooltip"
            },
            "label_display": false,
            "label_display_format": ".2f",
            "label_display_horizontal_offset": 0,
            "label_display_vertical_offset": 0,
            "label_font_style": {},
            "labels": [],
            "opacities": [],
            "opacity_mode": "auto",
            "orientation": "vertical",
            "padding": 0.05,
            "preserve_domain": {},
            "scales": {
              "x": "IPY_MODEL_e085493133664c46b0e27fa9e564e7ef",
              "y": "IPY_MODEL_7f5c801317a041e59988137eab0f6b30"
            },
            "scales_metadata": {
              "x": {
                "orientation": "horizontal",
                "dimension": "x"
              },
              "y": {
                "orientation": "vertical",
                "dimension": "y"
              },
              "color": {
                "dimension": "color"
              }
            },
            "selected": null,
            "selected_style": {},
            "stroke": null,
            "stroke_width": 1,
            "tooltip": "IPY_MODEL_eae0b87648db459bb31182e677e60496",
            "tooltip_location": "mouse",
            "tooltip_style": {
              "opacity": 0.9
            },
            "type": "stacked",
            "unselected_style": {
              "opacity": "0.5"
            },
            "visible": true,
            "x": {
              "dtype": "int32",
              "shape": [
                10
              ],
              "type": null
            },
            "y": {
              "dtype": "float64",
              "shape": [
                10
              ],
              "type": null
            }
          }
        },
        "3493fdd22ba24377b04a66d8a50589f0": {
          "model_module": "bqplot",
          "model_name": "LinearScaleModel",
          "model_module_version": "^0.5",
          "state": {
            "_model_module": "bqplot",
            "_model_module_version": "^0.5",
            "_model_name": "LinearScaleModel",
            "_view_count": null,
            "_view_module": "bqplot",
            "_view_module_version": "^0.5",
            "_view_name": "LinearScale",
            "allow_padding": false,
            "max": 1,
            "mid_range": 0.8,
            "min": 0,
            "min_range": 0.6,
            "reverse": false,
            "stabilized": false
          }
        },
        "1793c7cf424c4fabb60fa30096f5f3ea": {
          "model_module": "bqplot",
          "model_name": "LinearScaleModel",
          "model_module_version": "^0.5",
          "state": {
            "_model_module": "bqplot",
            "_model_module_version": "^0.5",
            "_model_name": "LinearScaleModel",
            "_view_count": null,
            "_view_module": "bqplot",
            "_view_module_version": "^0.5",
            "_view_name": "LinearScale",
            "allow_padding": false,
            "max": 1,
            "mid_range": 0.8,
            "min": 0,
            "min_range": 0.6,
            "reverse": false,
            "stabilized": false
          }
        },
        "e085493133664c46b0e27fa9e564e7ef": {
          "model_module": "bqplot",
          "model_name": "LinearScaleModel",
          "model_module_version": "^0.5",
          "state": {
            "_model_module": "bqplot",
            "_model_module_version": "^0.5",
            "_model_name": "LinearScaleModel",
            "_view_count": null,
            "_view_module": "bqplot",
            "_view_module_version": "^0.5",
            "_view_name": "LinearScale",
            "allow_padding": true,
            "max": null,
            "mid_range": 0.8,
            "min": null,
            "min_range": 0.6,
            "reverse": false,
            "stabilized": false
          }
        },
        "7f5c801317a041e59988137eab0f6b30": {
          "model_module": "bqplot",
          "model_name": "LinearScaleModel",
          "model_module_version": "^0.5",
          "state": {
            "_model_module": "bqplot",
            "_model_module_version": "^0.5",
            "_model_name": "LinearScaleModel",
            "_view_count": null,
            "_view_module": "bqplot",
            "_view_module_version": "^0.5",
            "_view_name": "LinearScale",
            "allow_padding": true,
            "max": null,
            "mid_range": 0.8,
            "min": null,
            "min_range": 0.6,
            "reverse": false,
            "stabilized": false
          }
        },
        "eae0b87648db459bb31182e677e60496": {
          "model_module": "bqplot",
          "model_name": "TooltipModel",
          "model_module_version": "^0.5",
          "state": {
            "_dom_classes": [],
            "_model_module": "bqplot",
            "_model_module_version": "^0.5",
            "_model_name": "TooltipModel",
            "_view_count": null,
            "_view_module": "bqplot",
            "_view_module_version": "^0.5",
            "_view_name": "Tooltip",
            "fields": [
              "x",
              "y"
            ],
            "formats": [
              "",
              ".2f"
            ],
            "labels": [],
            "layout": "IPY_MODEL_58787069dfb8451989e6aae8b6b07fce",
            "show_labels": true
          }
        },
        "58787069dfb8451989e6aae8b6b07fce": {
          "model_module": "@jupyter-widgets/base",
          "model_name": "LayoutModel",
          "model_module_version": "1.2.0",
          "state": {
            "_model_module": "@jupyter-widgets/base",
            "_model_module_version": "1.2.0",
            "_model_name": "LayoutModel",
            "_view_count": null,
            "_view_module": "@jupyter-widgets/base",
            "_view_module_version": "1.2.0",
            "_view_name": "LayoutView",
            "align_content": null,
            "align_items": null,
            "align_self": null,
            "border": null,
            "bottom": null,
            "display": null,
            "flex": null,
            "flex_flow": null,
            "grid_area": null,
            "grid_auto_columns": null,
            "grid_auto_flow": null,
            "grid_auto_rows": null,
            "grid_column": null,
            "grid_gap": null,
            "grid_row": null,
            "grid_template_areas": null,
            "grid_template_columns": null,
            "grid_template_rows": null,
            "height": null,
            "justify_content": null,
            "justify_items": null,
            "left": null,
            "margin": null,
            "max_height": null,
            "max_width": null,
            "min_height": null,
            "min_width": null,
            "object_fit": null,
            "object_position": null,
            "order": null,
            "overflow": null,
            "overflow_x": null,
            "overflow_y": null,
            "padding": null,
            "right": null,
            "top": null,
            "visibility": null,
            "width": null
          }
        }
      }
    }
  },
  "cells": [
    {
      "cell_type": "markdown",
      "source": [
        "<a target=\"_blank\" href=\"https://colab.research.google.com/github/PacktPublishing/Deep-Learning-Model-Visualization/blob/main/Chapter03/DLMV_Chapter03_03_bqplot.ipynb\">\n",
        "  <img src=\"https://colab.research.google.com/assets/colab-badge.svg\" alt=\"Open In Colab\"/>\n",
        "</a>"
      ],
      "metadata": {
        "id": "Ekk4JTuObBak"
      }
    },
    {
      "cell_type": "markdown",
      "source": [
        "# Chapter 03 - 02 - `bqplot`\n",
        "\n"
      ],
      "metadata": {
        "id": "g71w-W5N9pQ-"
      }
    },
    {
      "cell_type": "code",
      "source": [
        "import bqplot.pyplot as plt\n",
        "import bqplot as bq\n",
        "# On Google Colab enable this\n",
        "from google.colab import output\n",
        "output.enable_custom_widget_manager()"
      ],
      "metadata": {
        "id": "Kvd9lhu36mHn"
      },
      "execution_count": 1,
      "outputs": []
    },
    {
      "cell_type": "code",
      "source": [
        "print(bq.__version__)"
      ],
      "metadata": {
        "id": "Nb-lPcEjGg2X",
        "colab": {
          "base_uri": "https://localhost:8080/"
        },
        "outputId": "61ee5682-02c4-45b3-c73c-2d23a7a461b1"
      },
      "execution_count": 2,
      "outputs": [
        {
          "output_type": "stream",
          "name": "stdout",
          "text": [
            "0.12.43\n"
          ]
        }
      ]
    },
    {
      "cell_type": "code",
      "source": [
        "import numpy as np\n",
        "np.random.seed(2)\n",
        "x = np.arange(1, 11)\n",
        "y = np.random.rand(10)"
      ],
      "metadata": {
        "id": "RUQ_aEk268Dj"
      },
      "execution_count": 3,
      "outputs": []
    },
    {
      "cell_type": "code",
      "source": [
        "# figure\n",
        "fig = plt.figure(\n",
        "    layout=dict(width=\"800px\", height=\"400px\"))\n",
        "# tooltip\n",
        "tooltip = bq.Tooltip(fields   =[\"x\", \"y\"],\n",
        "                     formats  =[\"\", \".2f\"])\n",
        "# marks\n",
        "bar = plt.bar(\n",
        "    x, y,\n",
        "    tooltip=tooltip,\n",
        "    interactions={\"click\": \"select\", \"hover\": \"tooltip\"},\n",
        "    unselected_style={\"opacity\": \"0.5\"},\n",
        "    )\n",
        "# define on click handler\n",
        "def on_clicked(*args):\n",
        "  selected_indices = bar.selected\n",
        "  if selected_indices is not None:\n",
        "    x = bar.x[selected_indices]\n",
        "    y = bar.y[selected_indices]\n",
        "    print(f'Selected (x: {x}, y: {y})')\n",
        "# set event handler\n",
        "bar.on_element_click(on_clicked)\n",
        "# show\n",
        "fig"
      ],
      "metadata": {
        "colab": {
          "base_uri": "https://localhost:8080/",
          "height": 441,
          "referenced_widgets": [
            "03d52c053681418589add3e758ea6b0b",
            "7bcfa7a527d24e449429966f0c66e708",
            "675450e381f543ffae1de9f35b49282d",
            "aa1015fb8379438780974cfbf4c60171",
            "1b8ba1796a444f5eb31c844c78ea1ed4",
            "3493fdd22ba24377b04a66d8a50589f0",
            "1793c7cf424c4fabb60fa30096f5f3ea",
            "e085493133664c46b0e27fa9e564e7ef",
            "7f5c801317a041e59988137eab0f6b30",
            "eae0b87648db459bb31182e677e60496",
            "58787069dfb8451989e6aae8b6b07fce"
          ]
        },
        "id": "hCUlQmuVeUjU",
        "outputId": "44d9dec7-b7c2-475e-fd0a-726dbec6fbc7"
      },
      "execution_count": 4,
      "outputs": [
        {
          "output_type": "display_data",
          "data": {
            "text/plain": [
              "Figure(axes=[Axis(scale=LinearScale()), Axis(orientation='vertical', scale=LinearScale())], fig_margin={'top':…"
            ],
            "application/vnd.jupyter.widget-view+json": {
              "version_major": 2,
              "version_minor": 0,
              "model_id": "03d52c053681418589add3e758ea6b0b"
            }
          },
          "metadata": {
            "application/vnd.jupyter.widget-view+json": {
              "colab": {
                "custom_widget_manager": {
                  "url": "https://ssl.gstatic.com/colaboratory-static/widgets/colab-cdn-widget-manager/2b70e893a8ba7c0f/manager.min.js"
                }
              }
            }
          }
        }
      ]
    },
    {
      "cell_type": "code",
      "source": [],
      "metadata": {
        "id": "AGGWgtnsf_YG"
      },
      "execution_count": 4,
      "outputs": []
    }
  ]
}