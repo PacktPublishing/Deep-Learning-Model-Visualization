{
  "nbformat": 4,
  "nbformat_minor": 0,
  "metadata": {
    "colab": {
      "provenance": []
    },
    "kernelspec": {
      "name": "python3",
      "display_name": "Python 3"
    },
    "language_info": {
      "name": "python"
    },
    "widgets": {
      "application/vnd.jupyter.widget-state+json": {
        "27269936f9e54b339e2d704ccc21d9ff": {
          "model_module": "@jupyter-widgets/controls",
          "model_name": "HBoxModel",
          "model_module_version": "1.5.0",
          "state": {
            "_dom_classes": [],
            "_model_module": "@jupyter-widgets/controls",
            "_model_module_version": "1.5.0",
            "_model_name": "HBoxModel",
            "_view_count": null,
            "_view_module": "@jupyter-widgets/controls",
            "_view_module_version": "1.5.0",
            "_view_name": "HBoxView",
            "box_style": "",
            "children": [
              "IPY_MODEL_e0d5051b9ab74ac99098701ef1ac6d7d",
              "IPY_MODEL_ab2c9ca364934c31b1824c7aca28794c"
            ],
            "layout": "IPY_MODEL_fd4333fc3ac245c6a7332c24a5822a03"
          }
        },
        "e0d5051b9ab74ac99098701ef1ac6d7d": {
          "model_module": "@jupyter-widgets/controls",
          "model_name": "VBoxModel",
          "model_module_version": "1.5.0",
          "state": {
            "_dom_classes": [],
            "_model_module": "@jupyter-widgets/controls",
            "_model_module_version": "1.5.0",
            "_model_name": "VBoxModel",
            "_view_count": null,
            "_view_module": "@jupyter-widgets/controls",
            "_view_module_version": "1.5.0",
            "_view_name": "VBoxView",
            "box_style": "",
            "children": [
              "IPY_MODEL_634db1937e17476fb5c236287aa29835",
              "IPY_MODEL_4c2ae609cb7d404c98f58c0824eaa31f",
              "IPY_MODEL_3a82c1a9d2e2445cba03c95da757fbbf",
              "IPY_MODEL_7ddcb61a94e542bc8f86cbcb7a09440b",
              "IPY_MODEL_d887aeeca3d04bb2a891a2f6daa1b550"
            ],
            "layout": "IPY_MODEL_e58edda9ea5a431e904929007e3ddff8"
          }
        },
        "ab2c9ca364934c31b1824c7aca28794c": {
          "model_module": "@jupyter-widgets/output",
          "model_name": "OutputModel",
          "model_module_version": "1.0.0",
          "state": {
            "_dom_classes": [],
            "_model_module": "@jupyter-widgets/output",
            "_model_module_version": "1.0.0",
            "_model_name": "OutputModel",
            "_view_count": null,
            "_view_module": "@jupyter-widgets/output",
            "_view_module_version": "1.0.0",
            "_view_name": "OutputView",
            "layout": "IPY_MODEL_330b63537d0d458fb1b6e4ce6c61b854",
            "msg_id": "",
            "outputs": []
          }
        },
        "fd4333fc3ac245c6a7332c24a5822a03": {
          "model_module": "@jupyter-widgets/base",
          "model_name": "LayoutModel",
          "model_module_version": "1.2.0",
          "state": {
            "_model_module": "@jupyter-widgets/base",
            "_model_module_version": "1.2.0",
            "_model_name": "LayoutModel",
            "_view_count": null,
            "_view_module": "@jupyter-widgets/base",
            "_view_module_version": "1.2.0",
            "_view_name": "LayoutView",
            "align_content": null,
            "align_items": null,
            "align_self": null,
            "border": null,
            "bottom": null,
            "display": null,
            "flex": null,
            "flex_flow": null,
            "grid_area": null,
            "grid_auto_columns": null,
            "grid_auto_flow": null,
            "grid_auto_rows": null,
            "grid_column": null,
            "grid_gap": null,
            "grid_row": null,
            "grid_template_areas": null,
            "grid_template_columns": null,
            "grid_template_rows": null,
            "height": null,
            "justify_content": null,
            "justify_items": null,
            "left": null,
            "margin": null,
            "max_height": null,
            "max_width": null,
            "min_height": null,
            "min_width": null,
            "object_fit": null,
            "object_position": null,
            "order": null,
            "overflow": null,
            "overflow_x": null,
            "overflow_y": null,
            "padding": null,
            "right": null,
            "top": null,
            "visibility": null,
            "width": null
          }
        },
        "634db1937e17476fb5c236287aa29835": {
          "model_module": "@jupyter-widgets/controls",
          "model_name": "FloatSliderModel",
          "model_module_version": "1.5.0",
          "state": {
            "_dom_classes": [],
            "_model_module": "@jupyter-widgets/controls",
            "_model_module_version": "1.5.0",
            "_model_name": "FloatSliderModel",
            "_view_count": null,
            "_view_module": "@jupyter-widgets/controls",
            "_view_module_version": "1.5.0",
            "_view_name": "FloatSliderView",
            "continuous_update": true,
            "description": "start",
            "description_tooltip": null,
            "disabled": false,
            "layout": "IPY_MODEL_78e13db61d6b422eb3477a52d5fb8846",
            "max": 6.283185307179586,
            "min": -6.283185307179586,
            "orientation": "horizontal",
            "readout": true,
            "readout_format": ".2f",
            "step": 0.1,
            "style": "IPY_MODEL_57e41d3e51ca44ccb098860f7f110bfe",
            "value": -6.283185307179586
          }
        },
        "4c2ae609cb7d404c98f58c0824eaa31f": {
          "model_module": "@jupyter-widgets/controls",
          "model_name": "FloatSliderModel",
          "model_module_version": "1.5.0",
          "state": {
            "_dom_classes": [],
            "_model_module": "@jupyter-widgets/controls",
            "_model_module_version": "1.5.0",
            "_model_name": "FloatSliderModel",
            "_view_count": null,
            "_view_module": "@jupyter-widgets/controls",
            "_view_module_version": "1.5.0",
            "_view_name": "FloatSliderView",
            "continuous_update": true,
            "description": "learning rate",
            "description_tooltip": null,
            "disabled": false,
            "layout": "IPY_MODEL_e1184b44622d48b59a1d3fe21345b0e0",
            "max": 2,
            "min": 0.001,
            "orientation": "horizontal",
            "readout": true,
            "readout_format": ".3f",
            "step": 0.001,
            "style": "IPY_MODEL_68667e75f00b453abcb95c4d4275dba8",
            "value": 0.049999999999999996
          }
        },
        "3a82c1a9d2e2445cba03c95da757fbbf": {
          "model_module": "@jupyter-widgets/controls",
          "model_name": "IntSliderModel",
          "model_module_version": "1.5.0",
          "state": {
            "_dom_classes": [],
            "_model_module": "@jupyter-widgets/controls",
            "_model_module_version": "1.5.0",
            "_model_name": "IntSliderModel",
            "_view_count": null,
            "_view_module": "@jupyter-widgets/controls",
            "_view_module_version": "1.5.0",
            "_view_name": "IntSliderView",
            "continuous_update": true,
            "description": "max iters",
            "description_tooltip": null,
            "disabled": false,
            "layout": "IPY_MODEL_f9bb2d6a71bd41dc99c77f849ade8750",
            "max": 200,
            "min": 1,
            "orientation": "horizontal",
            "readout": true,
            "readout_format": "d",
            "step": 1,
            "style": "IPY_MODEL_4dec0beab6014e4cab19c695aafa9b4e",
            "value": 100
          }
        },
        "7ddcb61a94e542bc8f86cbcb7a09440b": {
          "model_module": "@jupyter-widgets/controls",
          "model_name": "FloatSliderModel",
          "model_module_version": "1.5.0",
          "state": {
            "_dom_classes": [],
            "_model_module": "@jupyter-widgets/controls",
            "_model_module_version": "1.5.0",
            "_model_name": "FloatSliderModel",
            "_view_count": null,
            "_view_module": "@jupyter-widgets/controls",
            "_view_module_version": "1.5.0",
            "_view_name": "FloatSliderView",
            "continuous_update": true,
            "description": "tolerance",
            "description_tooltip": null,
            "disabled": false,
            "layout": "IPY_MODEL_4dda87e90271400cb4188bf7d0df02c5",
            "max": 1,
            "min": 0.001,
            "orientation": "horizontal",
            "readout": true,
            "readout_format": ".4f",
            "step": 0.001,
            "style": "IPY_MODEL_94e40e0c6be6438ea209725b81377563",
            "value": 0.001
          }
        },
        "d887aeeca3d04bb2a891a2f6daa1b550": {
          "model_module": "@jupyter-widgets/controls",
          "model_name": "ButtonModel",
          "model_module_version": "1.5.0",
          "state": {
            "_dom_classes": [],
            "_model_module": "@jupyter-widgets/controls",
            "_model_module_version": "1.5.0",
            "_model_name": "ButtonModel",
            "_view_count": null,
            "_view_module": "@jupyter-widgets/controls",
            "_view_module_version": "1.5.0",
            "_view_name": "ButtonView",
            "button_style": "",
            "description": "Train",
            "disabled": false,
            "icon": "",
            "layout": "IPY_MODEL_b9f81552924d4737acc1b7ff60bbd0f6",
            "style": "IPY_MODEL_2702600d06394cf8af92c83556cefd51",
            "tooltip": ""
          }
        },
        "e58edda9ea5a431e904929007e3ddff8": {
          "model_module": "@jupyter-widgets/base",
          "model_name": "LayoutModel",
          "model_module_version": "1.2.0",
          "state": {
            "_model_module": "@jupyter-widgets/base",
            "_model_module_version": "1.2.0",
            "_model_name": "LayoutModel",
            "_view_count": null,
            "_view_module": "@jupyter-widgets/base",
            "_view_module_version": "1.2.0",
            "_view_name": "LayoutView",
            "align_content": null,
            "align_items": null,
            "align_self": null,
            "border": null,
            "bottom": null,
            "display": null,
            "flex": null,
            "flex_flow": null,
            "grid_area": null,
            "grid_auto_columns": null,
            "grid_auto_flow": null,
            "grid_auto_rows": null,
            "grid_column": null,
            "grid_gap": null,
            "grid_row": null,
            "grid_template_areas": null,
            "grid_template_columns": null,
            "grid_template_rows": null,
            "height": null,
            "justify_content": null,
            "justify_items": null,
            "left": null,
            "margin": null,
            "max_height": null,
            "max_width": null,
            "min_height": null,
            "min_width": null,
            "object_fit": null,
            "object_position": null,
            "order": null,
            "overflow": null,
            "overflow_x": null,
            "overflow_y": null,
            "padding": null,
            "right": null,
            "top": null,
            "visibility": null,
            "width": null
          }
        },
        "330b63537d0d458fb1b6e4ce6c61b854": {
          "model_module": "@jupyter-widgets/base",
          "model_name": "LayoutModel",
          "model_module_version": "1.2.0",
          "state": {
            "_model_module": "@jupyter-widgets/base",
            "_model_module_version": "1.2.0",
            "_model_name": "LayoutModel",
            "_view_count": null,
            "_view_module": "@jupyter-widgets/base",
            "_view_module_version": "1.2.0",
            "_view_name": "LayoutView",
            "align_content": null,
            "align_items": null,
            "align_self": null,
            "border": null,
            "bottom": null,
            "display": null,
            "flex": null,
            "flex_flow": null,
            "grid_area": null,
            "grid_auto_columns": null,
            "grid_auto_flow": null,
            "grid_auto_rows": null,
            "grid_column": null,
            "grid_gap": null,
            "grid_row": null,
            "grid_template_areas": null,
            "grid_template_columns": null,
            "grid_template_rows": null,
            "height": null,
            "justify_content": null,
            "justify_items": null,
            "left": null,
            "margin": null,
            "max_height": null,
            "max_width": null,
            "min_height": null,
            "min_width": null,
            "object_fit": null,
            "object_position": null,
            "order": null,
            "overflow": null,
            "overflow_x": null,
            "overflow_y": null,
            "padding": null,
            "right": null,
            "top": null,
            "visibility": null,
            "width": null
          }
        },
        "78e13db61d6b422eb3477a52d5fb8846": {
          "model_module": "@jupyter-widgets/base",
          "model_name": "LayoutModel",
          "model_module_version": "1.2.0",
          "state": {
            "_model_module": "@jupyter-widgets/base",
            "_model_module_version": "1.2.0",
            "_model_name": "LayoutModel",
            "_view_count": null,
            "_view_module": "@jupyter-widgets/base",
            "_view_module_version": "1.2.0",
            "_view_name": "LayoutView",
            "align_content": null,
            "align_items": null,
            "align_self": null,
            "border": null,
            "bottom": null,
            "display": null,
            "flex": null,
            "flex_flow": null,
            "grid_area": null,
            "grid_auto_columns": null,
            "grid_auto_flow": null,
            "grid_auto_rows": null,
            "grid_column": null,
            "grid_gap": null,
            "grid_row": null,
            "grid_template_areas": null,
            "grid_template_columns": null,
            "grid_template_rows": null,
            "height": null,
            "justify_content": null,
            "justify_items": null,
            "left": null,
            "margin": null,
            "max_height": null,
            "max_width": null,
            "min_height": null,
            "min_width": null,
            "object_fit": null,
            "object_position": null,
            "order": null,
            "overflow": null,
            "overflow_x": null,
            "overflow_y": null,
            "padding": null,
            "right": null,
            "top": null,
            "visibility": null,
            "width": null
          }
        },
        "57e41d3e51ca44ccb098860f7f110bfe": {
          "model_module": "@jupyter-widgets/controls",
          "model_name": "SliderStyleModel",
          "model_module_version": "1.5.0",
          "state": {
            "_model_module": "@jupyter-widgets/controls",
            "_model_module_version": "1.5.0",
            "_model_name": "SliderStyleModel",
            "_view_count": null,
            "_view_module": "@jupyter-widgets/base",
            "_view_module_version": "1.2.0",
            "_view_name": "StyleView",
            "description_width": "",
            "handle_color": null
          }
        },
        "e1184b44622d48b59a1d3fe21345b0e0": {
          "model_module": "@jupyter-widgets/base",
          "model_name": "LayoutModel",
          "model_module_version": "1.2.0",
          "state": {
            "_model_module": "@jupyter-widgets/base",
            "_model_module_version": "1.2.0",
            "_model_name": "LayoutModel",
            "_view_count": null,
            "_view_module": "@jupyter-widgets/base",
            "_view_module_version": "1.2.0",
            "_view_name": "LayoutView",
            "align_content": null,
            "align_items": null,
            "align_self": null,
            "border": null,
            "bottom": null,
            "display": null,
            "flex": null,
            "flex_flow": null,
            "grid_area": null,
            "grid_auto_columns": null,
            "grid_auto_flow": null,
            "grid_auto_rows": null,
            "grid_column": null,
            "grid_gap": null,
            "grid_row": null,
            "grid_template_areas": null,
            "grid_template_columns": null,
            "grid_template_rows": null,
            "height": null,
            "justify_content": null,
            "justify_items": null,
            "left": null,
            "margin": null,
            "max_height": null,
            "max_width": null,
            "min_height": null,
            "min_width": null,
            "object_fit": null,
            "object_position": null,
            "order": null,
            "overflow": null,
            "overflow_x": null,
            "overflow_y": null,
            "padding": null,
            "right": null,
            "top": null,
            "visibility": null,
            "width": null
          }
        },
        "68667e75f00b453abcb95c4d4275dba8": {
          "model_module": "@jupyter-widgets/controls",
          "model_name": "SliderStyleModel",
          "model_module_version": "1.5.0",
          "state": {
            "_model_module": "@jupyter-widgets/controls",
            "_model_module_version": "1.5.0",
            "_model_name": "SliderStyleModel",
            "_view_count": null,
            "_view_module": "@jupyter-widgets/base",
            "_view_module_version": "1.2.0",
            "_view_name": "StyleView",
            "description_width": "",
            "handle_color": null
          }
        },
        "f9bb2d6a71bd41dc99c77f849ade8750": {
          "model_module": "@jupyter-widgets/base",
          "model_name": "LayoutModel",
          "model_module_version": "1.2.0",
          "state": {
            "_model_module": "@jupyter-widgets/base",
            "_model_module_version": "1.2.0",
            "_model_name": "LayoutModel",
            "_view_count": null,
            "_view_module": "@jupyter-widgets/base",
            "_view_module_version": "1.2.0",
            "_view_name": "LayoutView",
            "align_content": null,
            "align_items": null,
            "align_self": null,
            "border": null,
            "bottom": null,
            "display": null,
            "flex": null,
            "flex_flow": null,
            "grid_area": null,
            "grid_auto_columns": null,
            "grid_auto_flow": null,
            "grid_auto_rows": null,
            "grid_column": null,
            "grid_gap": null,
            "grid_row": null,
            "grid_template_areas": null,
            "grid_template_columns": null,
            "grid_template_rows": null,
            "height": null,
            "justify_content": null,
            "justify_items": null,
            "left": null,
            "margin": null,
            "max_height": null,
            "max_width": null,
            "min_height": null,
            "min_width": null,
            "object_fit": null,
            "object_position": null,
            "order": null,
            "overflow": null,
            "overflow_x": null,
            "overflow_y": null,
            "padding": null,
            "right": null,
            "top": null,
            "visibility": null,
            "width": null
          }
        },
        "4dec0beab6014e4cab19c695aafa9b4e": {
          "model_module": "@jupyter-widgets/controls",
          "model_name": "SliderStyleModel",
          "model_module_version": "1.5.0",
          "state": {
            "_model_module": "@jupyter-widgets/controls",
            "_model_module_version": "1.5.0",
            "_model_name": "SliderStyleModel",
            "_view_count": null,
            "_view_module": "@jupyter-widgets/base",
            "_view_module_version": "1.2.0",
            "_view_name": "StyleView",
            "description_width": "",
            "handle_color": null
          }
        },
        "4dda87e90271400cb4188bf7d0df02c5": {
          "model_module": "@jupyter-widgets/base",
          "model_name": "LayoutModel",
          "model_module_version": "1.2.0",
          "state": {
            "_model_module": "@jupyter-widgets/base",
            "_model_module_version": "1.2.0",
            "_model_name": "LayoutModel",
            "_view_count": null,
            "_view_module": "@jupyter-widgets/base",
            "_view_module_version": "1.2.0",
            "_view_name": "LayoutView",
            "align_content": null,
            "align_items": null,
            "align_self": null,
            "border": null,
            "bottom": null,
            "display": null,
            "flex": null,
            "flex_flow": null,
            "grid_area": null,
            "grid_auto_columns": null,
            "grid_auto_flow": null,
            "grid_auto_rows": null,
            "grid_column": null,
            "grid_gap": null,
            "grid_row": null,
            "grid_template_areas": null,
            "grid_template_columns": null,
            "grid_template_rows": null,
            "height": null,
            "justify_content": null,
            "justify_items": null,
            "left": null,
            "margin": null,
            "max_height": null,
            "max_width": null,
            "min_height": null,
            "min_width": null,
            "object_fit": null,
            "object_position": null,
            "order": null,
            "overflow": null,
            "overflow_x": null,
            "overflow_y": null,
            "padding": null,
            "right": null,
            "top": null,
            "visibility": null,
            "width": null
          }
        },
        "94e40e0c6be6438ea209725b81377563": {
          "model_module": "@jupyter-widgets/controls",
          "model_name": "SliderStyleModel",
          "model_module_version": "1.5.0",
          "state": {
            "_model_module": "@jupyter-widgets/controls",
            "_model_module_version": "1.5.0",
            "_model_name": "SliderStyleModel",
            "_view_count": null,
            "_view_module": "@jupyter-widgets/base",
            "_view_module_version": "1.2.0",
            "_view_name": "StyleView",
            "description_width": "",
            "handle_color": null
          }
        },
        "b9f81552924d4737acc1b7ff60bbd0f6": {
          "model_module": "@jupyter-widgets/base",
          "model_name": "LayoutModel",
          "model_module_version": "1.2.0",
          "state": {
            "_model_module": "@jupyter-widgets/base",
            "_model_module_version": "1.2.0",
            "_model_name": "LayoutModel",
            "_view_count": null,
            "_view_module": "@jupyter-widgets/base",
            "_view_module_version": "1.2.0",
            "_view_name": "LayoutView",
            "align_content": null,
            "align_items": null,
            "align_self": null,
            "border": null,
            "bottom": null,
            "display": null,
            "flex": null,
            "flex_flow": null,
            "grid_area": null,
            "grid_auto_columns": null,
            "grid_auto_flow": null,
            "grid_auto_rows": null,
            "grid_column": null,
            "grid_gap": null,
            "grid_row": null,
            "grid_template_areas": null,
            "grid_template_columns": null,
            "grid_template_rows": null,
            "height": null,
            "justify_content": null,
            "justify_items": null,
            "left": null,
            "margin": null,
            "max_height": null,
            "max_width": null,
            "min_height": null,
            "min_width": null,
            "object_fit": null,
            "object_position": null,
            "order": null,
            "overflow": null,
            "overflow_x": null,
            "overflow_y": null,
            "padding": null,
            "right": null,
            "top": null,
            "visibility": null,
            "width": null
          }
        },
        "2702600d06394cf8af92c83556cefd51": {
          "model_module": "@jupyter-widgets/controls",
          "model_name": "ButtonStyleModel",
          "model_module_version": "1.5.0",
          "state": {
            "_model_module": "@jupyter-widgets/controls",
            "_model_module_version": "1.5.0",
            "_model_name": "ButtonStyleModel",
            "_view_count": null,
            "_view_module": "@jupyter-widgets/base",
            "_view_module_version": "1.2.0",
            "_view_name": "StyleView",
            "button_color": null,
            "font_weight": ""
          }
        }
      }
    }
  },
  "cells": [
    {
      "cell_type": "markdown",
      "source": [
        "<a target=\"_blank\" href=\"https://colab.research.google.com/github/PacktPublishing/Deep-Learning-Model-Visualization/blob/main/Chapter03/DLMV_Chapter03_04_GradientDescent_bqplot.ipynb\">\n",
        "  <img src=\"https://colab.research.google.com/assets/colab-badge.svg\" alt=\"Open In Colab\"/>\n",
        "</a>"
      ],
      "metadata": {
        "id": "4gQO4jktbeY4"
      }
    },
    {
      "cell_type": "markdown",
      "source": [
        "# Chapter 03 - 04 - Gradient Descent with `bqplot`"
      ],
      "metadata": {
        "id": "oPnllWEhx81b"
      }
    },
    {
      "cell_type": "markdown",
      "source": [
        "## Gradient Descent"
      ],
      "metadata": {
        "id": "dtJ-X_0j8rgG"
      }
    },
    {
      "cell_type": "code",
      "source": [
        "import numpy as np\n",
        "def gradient_descent(start, grad_fn, lr, max_iters, tol):\n",
        "  x = start\n",
        "  history = [x]\n",
        "  iter = 0\n",
        "  while iter < max_iters:\n",
        "    step = lr*grad_fn(x)\n",
        "    x = x - step\n",
        "    iter += 1\n",
        "    history.append(x)\n",
        "    if (np.abs(step) <= tol):\n",
        "      break\n",
        "  return np.array(history)"
      ],
      "metadata": {
        "id": "VaNqRc68yAPT"
      },
      "execution_count": 1,
      "outputs": []
    },
    {
      "cell_type": "markdown",
      "source": [
        "## Functions and Data"
      ],
      "metadata": {
        "id": "TvzTolkr-FUp"
      }
    },
    {
      "cell_type": "code",
      "source": [
        "# function/data\n",
        "\n",
        "def f(x):\n",
        "  return x**2 - 10*np.sin(x)\n",
        "\n",
        "def dfdx(x):\n",
        "  return 2*x - 10*np.cos(x)\n",
        "\n",
        "x = np.linspace(-2*np.pi, 2*np.pi, 100)"
      ],
      "metadata": {
        "id": "xcx9lGX75jdF"
      },
      "execution_count": 2,
      "outputs": []
    },
    {
      "cell_type": "markdown",
      "source": [
        "# Exploration"
      ],
      "metadata": {
        "id": "wfpIWq3M-Go3"
      }
    },
    {
      "cell_type": "code",
      "source": [
        "# The only change is in here\n",
        "import bqplot.pyplot as plt\n",
        "import bqplot as bq\n",
        "# add support for custom widget\n",
        "from google.colab import output\n",
        "output.enable_custom_widget_manager()"
      ],
      "metadata": {
        "id": "UaMBtw33G0vD"
      },
      "execution_count": 3,
      "outputs": []
    },
    {
      "cell_type": "code",
      "source": [
        "print(bq.__version__)"
      ],
      "metadata": {
        "id": "HIzprsUKG1eE",
        "colab": {
          "base_uri": "https://localhost:8080/"
        },
        "outputId": "6d01ce56-bf3f-49d0-a461-e51af7a5c94a"
      },
      "execution_count": 4,
      "outputs": [
        {
          "output_type": "stream",
          "name": "stdout",
          "text": [
            "0.12.43\n"
          ]
        }
      ]
    },
    {
      "cell_type": "code",
      "source": [
        "def plot_history(step, x, f, history, lr, tol):\n",
        "  # Step 1: create a figure and plot the objective function\n",
        "  fig = plt.figure(\n",
        "      layout=dict(width=\"500px\", height=\"500px\"))\n",
        "  title = f'learning rate: {lr:.3f}, starting: {history[0]:.2f}, tolarance: {tol:.3f}'\n",
        "  fig.title = title\n",
        "  plt.plot(x, f(x))\n",
        "  # Step 2: plot points and connection lines\n",
        "  # data until this step\n",
        "  x = history[:step+1]\n",
        "  y = f(x)\n",
        "  # tooltip for the points\n",
        "  tooltip = bq.Tooltip(fields=[\"x\", \"y\"],\n",
        "                        formats=[\".2f\", \".2f\"])\n",
        "  # plot the points\n",
        "  plt.scatter(x, y, stroke='black', tooltip=tooltip)\n",
        "  # plot the connections\n",
        "  plt.plot(x, y, 'r--')\n",
        "  # Step 3: plot the annotations\n",
        "  msg = f'iteration {step}, result {y[-1]:.2f}'\n",
        "  plt.label(text=[msg], x=[-2], y=[30])\n",
        "  plt.plot([-2, x[-1]], [30, y[-1]],'m--')\n",
        "  # show\n",
        "  display(fig)"
      ],
      "metadata": {
        "id": "6Mg1D9lkl0ou"
      },
      "execution_count": 5,
      "outputs": []
    },
    {
      "cell_type": "code",
      "source": [
        "import ipywidgets as widgets\n",
        "from IPython.display import display\n",
        "from IPython.display import HTML\n",
        "display(HTML('''<link rel=\"stylesheet\" href=\"https://stackpath.bootstrapcdn.com/font-awesome/4.7.0/css/font-awesome.min.css\"> '''))\n",
        "\n",
        "startSlider = widgets.FloatSlider(\n",
        "    value=-2*np.pi,\n",
        "    min=-2*np.pi,\n",
        "    max=2*np.pi,\n",
        "    step=0.1,\n",
        "    description='start'\n",
        "    )\n",
        "lrSlider = widgets.FloatSlider(\n",
        "    value=0.05,\n",
        "    min=0.001,\n",
        "    max=2.0,\n",
        "    step=0.001,\n",
        "    description='learning rate',\n",
        "    readout_format='.3f'\n",
        ")\n",
        "maxIterSlider = widgets.IntSlider(\n",
        "    value=100,\n",
        "    min=1,\n",
        "    max=200,\n",
        "    step=1,\n",
        "    description='max iters'\n",
        ")\n",
        "tolSlider = widgets.FloatSlider(\n",
        "    value=0.001,\n",
        "    min=0.001,\n",
        "    max=1.0,\n",
        "    step=0.001,\n",
        "    description='tolerance',\n",
        "    readout_format='.4f'\n",
        ")\n",
        "\n",
        "\n",
        "btn = widgets.Button(description='Train')\n",
        "output = widgets.Output()\n",
        "# arrange the widgets\n",
        "hyperparameters = widgets.VBox(\n",
        "    [startSlider, lrSlider, maxIterSlider, tolSlider, btn])\n",
        "display(widgets.HBox([hyperparameters, output]))\n",
        "\n",
        "# clear output\n",
        "def clear_output(evt):\n",
        "  output.clear_output()\n",
        "\n",
        "startSlider.observe(clear_output, names=['value'], type='change')\n",
        "lrSlider.observe(clear_output, names=['value'], type='change')\n",
        "maxIterSlider.observe(clear_output, names=['value'], type='change')\n",
        "tolSlider.observe(clear_output, names=['value'], type='change')\n",
        "\n",
        "# playback\n",
        "def playback(history, output, lr, tol):\n",
        "  # Step 1: The playback controls\n",
        "  play = widgets.Play(\n",
        "      value=0, min=0, max=len(history)-1, step=1,\n",
        "      interval=1000,\n",
        "      description=\"Press play\"\n",
        "  )\n",
        "  iter = widgets.IntSlider(\n",
        "      value=0, min=0, max=len(history)-1, step=1,\n",
        "      description='iteration'\n",
        "  )\n",
        "  widgets.jslink((play, 'value'), (iter, 'value'))\n",
        "\n",
        "  # Step 2: The visualization output\n",
        "  output.clear_output()\n",
        "  plotoutput = widgets.interactive_output(\n",
        "      plot_history,\n",
        "      {\n",
        "          \"step\":iter,\n",
        "          \"f\": widgets.fixed(f),\n",
        "          \"x\": widgets.fixed(x),\n",
        "          \"history\": widgets.fixed(history),\n",
        "          \"lr\": widgets.fixed(lr),\n",
        "          \"tol\":widgets.fixed(tol)\n",
        "      })\n",
        "  # Step 3: The GUI\n",
        "  with output:\n",
        "    display(widgets.VBox(\n",
        "        [widgets.HBox([iter, play]), plotoutput]\n",
        "        ))\n",
        "\n",
        "# event handler\n",
        "def on_click(btn):\n",
        "  history = gradient_descent(\n",
        "      start=startSlider.value,\n",
        "      grad_fn=dfdx,\n",
        "      lr=lrSlider.value,\n",
        "      max_iters=maxIterSlider.value,\n",
        "      tol=tolSlider.value\n",
        "  )\n",
        "  playback(history, output, lrSlider.value, tol=tolSlider.value)\n",
        "\n",
        "# handle events\n",
        "btn.on_click(on_click);"
      ],
      "metadata": {
        "colab": {
          "base_uri": "https://localhost:8080/",
          "height": 177,
          "referenced_widgets": [
            "27269936f9e54b339e2d704ccc21d9ff",
            "e0d5051b9ab74ac99098701ef1ac6d7d",
            "ab2c9ca364934c31b1824c7aca28794c",
            "fd4333fc3ac245c6a7332c24a5822a03",
            "634db1937e17476fb5c236287aa29835",
            "4c2ae609cb7d404c98f58c0824eaa31f",
            "3a82c1a9d2e2445cba03c95da757fbbf",
            "7ddcb61a94e542bc8f86cbcb7a09440b",
            "d887aeeca3d04bb2a891a2f6daa1b550",
            "e58edda9ea5a431e904929007e3ddff8",
            "330b63537d0d458fb1b6e4ce6c61b854",
            "78e13db61d6b422eb3477a52d5fb8846",
            "57e41d3e51ca44ccb098860f7f110bfe",
            "e1184b44622d48b59a1d3fe21345b0e0",
            "68667e75f00b453abcb95c4d4275dba8",
            "f9bb2d6a71bd41dc99c77f849ade8750",
            "4dec0beab6014e4cab19c695aafa9b4e",
            "4dda87e90271400cb4188bf7d0df02c5",
            "94e40e0c6be6438ea209725b81377563",
            "b9f81552924d4737acc1b7ff60bbd0f6",
            "2702600d06394cf8af92c83556cefd51"
          ]
        },
        "id": "mtN0QIy282PE",
        "outputId": "18b6c46b-7538-4823-8754-426af686067a"
      },
      "execution_count": 6,
      "outputs": [
        {
          "output_type": "display_data",
          "data": {
            "text/plain": [
              "<IPython.core.display.HTML object>"
            ],
            "text/html": [
              "<link rel=\"stylesheet\" href=\"https://stackpath.bootstrapcdn.com/font-awesome/4.7.0/css/font-awesome.min.css\"> "
            ]
          },
          "metadata": {}
        },
        {
          "output_type": "display_data",
          "data": {
            "text/plain": [
              "HBox(children=(VBox(children=(FloatSlider(value=-6.283185307179586, description='start', max=6.283185307179586…"
            ],
            "application/vnd.jupyter.widget-view+json": {
              "version_major": 2,
              "version_minor": 0,
              "model_id": "27269936f9e54b339e2d704ccc21d9ff"
            }
          },
          "metadata": {
            "application/vnd.jupyter.widget-view+json": {
              "colab": {
                "custom_widget_manager": {
                  "url": "https://ssl.gstatic.com/colaboratory-static/widgets/colab-cdn-widget-manager/2b70e893a8ba7c0f/manager.min.js"
                }
              }
            }
          }
        }
      ]
    },
    {
      "cell_type": "code",
      "source": [],
      "metadata": {
        "id": "i4IuANy390Wj"
      },
      "execution_count": 6,
      "outputs": []
    }
  ]
}