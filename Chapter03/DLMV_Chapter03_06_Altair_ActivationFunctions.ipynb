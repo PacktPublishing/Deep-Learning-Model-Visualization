{
  "nbformat": 4,
  "nbformat_minor": 0,
  "metadata": {
    "colab": {
      "provenance": []
    },
    "kernelspec": {
      "name": "python3",
      "display_name": "Python 3"
    },
    "language_info": {
      "name": "python"
    }
  },
  "cells": [
    {
      "cell_type": "markdown",
      "source": [
        "<a target=\"_blank\" href=\"https://colab.research.google.com/github/PacktPublishing/Deep-Learning-Model-Visualization/blob/main/Chapter03/DLMV_Chapter03_06_Altair_ActivationFunctions.ipynb\">\n",
        "  <img src=\"https://colab.research.google.com/assets/colab-badge.svg\" alt=\"Open In Colab\"/>\n",
        "</a>"
      ],
      "metadata": {
        "id": "A-uqLbBOdct2"
      }
    },
    {
      "cell_type": "markdown",
      "source": [
        "# Chapter 03 - 06 - Exploring activation functions using Altair"
      ],
      "metadata": {
        "id": "yQYaFOO3kd5Z"
      }
    },
    {
      "cell_type": "markdown",
      "source": [
        "## Installation"
      ],
      "metadata": {
        "id": "cCatGQRUc7GO"
      }
    },
    {
      "cell_type": "code",
      "source": [
        "# install or upgrade\n",
        "!pip install --no-cache-dir --upgrade altair"
      ],
      "metadata": {
        "colab": {
          "base_uri": "https://localhost:8080/"
        },
        "id": "phIc4o-U7_2z",
        "outputId": "e557e423-9742-40d3-f8e8-323f8a11097a"
      },
      "execution_count": 1,
      "outputs": [
        {
          "output_type": "stream",
          "name": "stdout",
          "text": [
            "Requirement already satisfied: altair in /usr/local/lib/python3.10/dist-packages (4.2.2)\n",
            "Collecting altair\n",
            "  Downloading altair-5.3.0-py3-none-any.whl (857 kB)\n",
            "\u001b[2K     \u001b[90m━━━━━━━━━━━━━━━━━━━━━━━━━━━━━━━━━━━━━━━━\u001b[0m \u001b[32m857.8/857.8 kB\u001b[0m \u001b[31m6.4 MB/s\u001b[0m eta \u001b[36m0:00:00\u001b[0m\n",
            "\u001b[?25hRequirement already satisfied: jinja2 in /usr/local/lib/python3.10/dist-packages (from altair) (3.1.4)\n",
            "Requirement already satisfied: jsonschema>=3.0 in /usr/local/lib/python3.10/dist-packages (from altair) (4.19.2)\n",
            "Requirement already satisfied: numpy in /usr/local/lib/python3.10/dist-packages (from altair) (1.25.2)\n",
            "Requirement already satisfied: packaging in /usr/local/lib/python3.10/dist-packages (from altair) (24.0)\n",
            "Requirement already satisfied: pandas>=0.25 in /usr/local/lib/python3.10/dist-packages (from altair) (2.0.3)\n",
            "Requirement already satisfied: toolz in /usr/local/lib/python3.10/dist-packages (from altair) (0.12.1)\n",
            "Requirement already satisfied: typing-extensions>=4.0.1 in /usr/local/lib/python3.10/dist-packages (from altair) (4.11.0)\n",
            "Requirement already satisfied: attrs>=22.2.0 in /usr/local/lib/python3.10/dist-packages (from jsonschema>=3.0->altair) (23.2.0)\n",
            "Requirement already satisfied: jsonschema-specifications>=2023.03.6 in /usr/local/lib/python3.10/dist-packages (from jsonschema>=3.0->altair) (2023.12.1)\n",
            "Requirement already satisfied: referencing>=0.28.4 in /usr/local/lib/python3.10/dist-packages (from jsonschema>=3.0->altair) (0.35.1)\n",
            "Requirement already satisfied: rpds-py>=0.7.1 in /usr/local/lib/python3.10/dist-packages (from jsonschema>=3.0->altair) (0.18.1)\n",
            "Requirement already satisfied: python-dateutil>=2.8.2 in /usr/local/lib/python3.10/dist-packages (from pandas>=0.25->altair) (2.8.2)\n",
            "Requirement already satisfied: pytz>=2020.1 in /usr/local/lib/python3.10/dist-packages (from pandas>=0.25->altair) (2023.4)\n",
            "Requirement already satisfied: tzdata>=2022.1 in /usr/local/lib/python3.10/dist-packages (from pandas>=0.25->altair) (2024.1)\n",
            "Requirement already satisfied: MarkupSafe>=2.0 in /usr/local/lib/python3.10/dist-packages (from jinja2->altair) (2.1.5)\n",
            "Requirement already satisfied: six>=1.5 in /usr/local/lib/python3.10/dist-packages (from python-dateutil>=2.8.2->pandas>=0.25->altair) (1.16.0)\n",
            "Installing collected packages: altair\n",
            "  Attempting uninstall: altair\n",
            "    Found existing installation: altair 4.2.2\n",
            "    Uninstalling altair-4.2.2:\n",
            "      Successfully uninstalled altair-4.2.2\n",
            "Successfully installed altair-5.3.0\n"
          ]
        }
      ]
    },
    {
      "cell_type": "markdown",
      "source": [
        "## Imports"
      ],
      "metadata": {
        "id": "0CEDWtihdCZJ"
      }
    },
    {
      "cell_type": "code",
      "execution_count": 2,
      "metadata": {
        "id": "3MoMgGinnneI"
      },
      "outputs": [],
      "source": [
        "import altair as alt\n",
        "import pandas as pd\n",
        "import ipywidgets as widgets\n",
        "import numpy as np"
      ]
    },
    {
      "cell_type": "code",
      "source": [
        "print(alt.__version__)\n",
        "print(widgets.__version__)"
      ],
      "metadata": {
        "colab": {
          "base_uri": "https://localhost:8080/"
        },
        "id": "ghm4vJGwF4HD",
        "outputId": "53a8a8e0-3091-4aea-e277-648284ce48d9"
      },
      "execution_count": 3,
      "outputs": [
        {
          "output_type": "stream",
          "name": "stdout",
          "text": [
            "5.3.0\n",
            "7.7.1\n"
          ]
        }
      ]
    },
    {
      "cell_type": "markdown",
      "source": [
        "## Maths for common activation functions"
      ],
      "metadata": {
        "id": "8c05FMtUdENo"
      }
    },
    {
      "cell_type": "markdown",
      "source": [
        "1. Sigmoid\n",
        "$$\n",
        "\\sigma(x) = \\frac{1}{(1+e^{-x})} \\\\\n",
        "\\sigma'(x) = \\sigma(x)\\times(1-\\sigma(x))\n",
        "$$\n",
        "\n",
        "2. Tanh\n",
        "$$\n",
        "\\tanh(x) = \\frac{1}{(1+e^{-2x})} - 1 \\\\\n",
        "\\tanh'(x) = 1 - tanh^2(x)\n",
        "$$\n",
        "\n",
        "3. ReLU\n",
        "$$\n",
        "ReLU(x) =   \\begin{cases}\n",
        "              x & \\text{ if } x\\ge 0 \\\\\n",
        "              0 & \\text{ if } x\\lt 0\n",
        "            \\end{cases} \\\\\n",
        "            ReLU'(x) =   \\begin{cases}\n",
        "              1 & \\text{ if } x\\ge 0 \\\\\n",
        "              0 & \\text{ if } x\\lt 0\n",
        "            \\end{cases}\n",
        "$$"
      ],
      "metadata": {
        "id": "6P9sl1GDrrx5"
      }
    },
    {
      "cell_type": "markdown",
      "source": [
        "## Python implementations for common activation functions"
      ],
      "metadata": {
        "id": "J0-4g7WMdHeK"
      }
    },
    {
      "cell_type": "code",
      "source": [
        "def Sigmoid(x):\n",
        "  return 1/(1+np.exp(-x))\n",
        "\n",
        "def dSigmoid(x):\n",
        "  return Sigmoid(x)*(1-Sigmoid(x))\n",
        "\n",
        "def Tanh(x):\n",
        "  return 2/(1+np.exp(-2*x)) - 1\n",
        "\n",
        "def dTanh(x):\n",
        "  return 1 - Tanh(x)**2\n",
        "\n",
        "def ReLU(x):\n",
        "  return np.where(x>=0, x, 0)\n",
        "\n",
        "def dReLU(x):\n",
        "  return np.where(x>=0, 1, 0)"
      ],
      "metadata": {
        "id": "6mIiU1pPykhJ"
      },
      "execution_count": 4,
      "outputs": []
    },
    {
      "cell_type": "markdown",
      "source": [
        "## Helper to generate data"
      ],
      "metadata": {
        "id": "GKNU7dKtdMPi"
      }
    },
    {
      "cell_type": "code",
      "source": [
        "def gen_data(x, fx, dfx):\n",
        "  df = pd.DataFrame({\"x\": x, \"fx\": fx(x), \"dfx\": dfx(x)})\n",
        "  df = df.melt(id_vars    = [\"x\"],\n",
        "               var_name   = \"type\",\n",
        "               value_name = \"y\")\n",
        "  return df"
      ],
      "metadata": {
        "id": "c9MwcH6gCcsg"
      },
      "execution_count": 5,
      "outputs": []
    },
    {
      "cell_type": "markdown",
      "source": [
        "## Visualization"
      ],
      "metadata": {
        "id": "Wv8ocJ9FdQZg"
      }
    },
    {
      "cell_type": "code",
      "source": [
        "def plot(source, title):\n",
        "  # Create a base chart and set the data source\n",
        "  base = alt.Chart(source)\n",
        "  # Layer 1: The lines\n",
        "  lines = base.mark_line().encode(\n",
        "      x='x:Q', y='y:Q', color='type:N'\n",
        "  )\n",
        "  # Layer 2: Transparent selectors across the chart\n",
        "  nearest = alt.selection_point(nearest = True,\n",
        "                                on      = 'mouseover',\n",
        "                                fields  = ['x'],\n",
        "                                empty   = False)\n",
        "  selectors = base.mark_point().encode(\n",
        "      x = 'x:Q', opacity = alt.value(0),\n",
        "  ).add_params(nearest)\n",
        "  # Layer 3: Points on the lines for selcted x\n",
        "  points = lines.mark_point().encode(\n",
        "      opacity=alt.condition(\n",
        "          nearest,\n",
        "          alt.value(1),\n",
        "          alt.value(0))\n",
        "  )\n",
        "  # Layer 4: Text labels for the points\n",
        "  text = lines.mark_text(align='left', dx=5, dy=-5).encode(\n",
        "    text = alt.condition(\n",
        "        nearest,\n",
        "        'y:Q', alt.value(' '), format='.3f'))\n",
        "  # Layer 5: A rule at the location of the selection\n",
        "  rules = base.mark_rule(color='gray').encode(\n",
        "      x='x:Q',\n",
        "  ).transform_filter(nearest)\n",
        "  # Put the five layers into a chart and set properties\n",
        "  fig = alt.layer(\n",
        "      lines, selectors, points, rules, text\n",
        "  ).properties(\n",
        "      width=200, height=200, title=title\n",
        "  )\n",
        "  return fig"
      ],
      "metadata": {
        "id": "qsdTIH7gC_Hj"
      },
      "execution_count": 6,
      "outputs": []
    },
    {
      "cell_type": "code",
      "source": [
        "x = np.linspace(-6, 6, 100)\n",
        "sigmoid = plot(gen_data(x, Sigmoid, dSigmoid), \"Sigmoid\")\n",
        "tanh = plot(gen_data(x, Tanh, dTanh), \"Tanh\")\n",
        "relu = plot(gen_data(x, ReLU, dReLU), \"ReLU\")\n",
        "fig = alt.hconcat(sigmoid, tanh, relu)\n",
        "fig"
      ],
      "metadata": {
        "colab": {
          "base_uri": "https://localhost:8080/",
          "height": 293
        },
        "id": "wowJe6VVkVia",
        "outputId": "5939c523-85f1-40c0-f971-cc245b4701b8"
      },
      "execution_count": 7,
      "outputs": [
        {
          "output_type": "execute_result",
          "data": {
            "text/html": [
              "\n",
              "<style>\n",
              "  #altair-viz-8fd24f7af7f84f21ada2bcd00b061d5a.vega-embed {\n",
              "    width: 100%;\n",
              "    display: flex;\n",
              "  }\n",
              "\n",
              "  #altair-viz-8fd24f7af7f84f21ada2bcd00b061d5a.vega-embed details,\n",
              "  #altair-viz-8fd24f7af7f84f21ada2bcd00b061d5a.vega-embed details summary {\n",
              "    position: relative;\n",
              "  }\n",
              "</style>\n",
              "<div id=\"altair-viz-8fd24f7af7f84f21ada2bcd00b061d5a\"></div>\n",
              "<script type=\"text/javascript\">\n",
              "  var VEGA_DEBUG = (typeof VEGA_DEBUG == \"undefined\") ? {} : VEGA_DEBUG;\n",
              "  (function(spec, embedOpt){\n",
              "    let outputDiv = document.currentScript.previousElementSibling;\n",
              "    if (outputDiv.id !== \"altair-viz-8fd24f7af7f84f21ada2bcd00b061d5a\") {\n",
              "      outputDiv = document.getElementById(\"altair-viz-8fd24f7af7f84f21ada2bcd00b061d5a\");\n",
              "    }\n",
              "    const paths = {\n",
              "      \"vega\": \"https://cdn.jsdelivr.net/npm/vega@5?noext\",\n",
              "      \"vega-lib\": \"https://cdn.jsdelivr.net/npm/vega-lib?noext\",\n",
              "      \"vega-lite\": \"https://cdn.jsdelivr.net/npm/vega-lite@5.17.0?noext\",\n",
              "      \"vega-embed\": \"https://cdn.jsdelivr.net/npm/vega-embed@6?noext\",\n",
              "    };\n",
              "\n",
              "    function maybeLoadScript(lib, version) {\n",
              "      var key = `${lib.replace(\"-\", \"\")}_version`;\n",
              "      return (VEGA_DEBUG[key] == version) ?\n",
              "        Promise.resolve(paths[lib]) :\n",
              "        new Promise(function(resolve, reject) {\n",
              "          var s = document.createElement('script');\n",
              "          document.getElementsByTagName(\"head\")[0].appendChild(s);\n",
              "          s.async = true;\n",
              "          s.onload = () => {\n",
              "            VEGA_DEBUG[key] = version;\n",
              "            return resolve(paths[lib]);\n",
              "          };\n",
              "          s.onerror = () => reject(`Error loading script: ${paths[lib]}`);\n",
              "          s.src = paths[lib];\n",
              "        });\n",
              "    }\n",
              "\n",
              "    function showError(err) {\n",
              "      outputDiv.innerHTML = `<div class=\"error\" style=\"color:red;\">${err}</div>`;\n",
              "      throw err;\n",
              "    }\n",
              "\n",
              "    function displayChart(vegaEmbed) {\n",
              "      vegaEmbed(outputDiv, spec, embedOpt)\n",
              "        .catch(err => showError(`Javascript Error: ${err.message}<br>This usually means there's a typo in your chart specification. See the javascript console for the full traceback.`));\n",
              "    }\n",
              "\n",
              "    if(typeof define === \"function\" && define.amd) {\n",
              "      requirejs.config({paths});\n",
              "      require([\"vega-embed\"], displayChart, err => showError(`Error loading script: ${err.message}`));\n",
              "    } else {\n",
              "      maybeLoadScript(\"vega\", \"5\")\n",
              "        .then(() => maybeLoadScript(\"vega-lite\", \"5.17.0\"))\n",
              "        .then(() => maybeLoadScript(\"vega-embed\", \"6\"))\n",
              "        .catch(showError)\n",
              "        .then(() => displayChart(vegaEmbed));\n",
              "    }\n",
              "  })({\"config\": {\"view\": {\"continuousWidth\": 300, \"continuousHeight\": 300}}, \"hconcat\": [{\"layer\": [{\"mark\": {\"type\": \"line\"}, \"encoding\": {\"color\": {\"field\": \"type\", \"type\": \"nominal\"}, \"x\": {\"field\": \"x\", \"type\": \"quantitative\"}, \"y\": {\"field\": \"y\", \"type\": \"quantitative\"}}}, {\"mark\": {\"type\": \"point\"}, \"encoding\": {\"opacity\": {\"value\": 0}, \"x\": {\"field\": \"x\", \"type\": \"quantitative\"}}, \"name\": \"view_1\"}, {\"mark\": {\"type\": \"point\"}, \"encoding\": {\"color\": {\"field\": \"type\", \"type\": \"nominal\"}, \"opacity\": {\"condition\": {\"param\": \"param_1\", \"value\": 1, \"empty\": false}, \"value\": 0}, \"x\": {\"field\": \"x\", \"type\": \"quantitative\"}, \"y\": {\"field\": \"y\", \"type\": \"quantitative\"}}}, {\"mark\": {\"type\": \"rule\", \"color\": \"gray\"}, \"encoding\": {\"x\": {\"field\": \"x\", \"type\": \"quantitative\"}}, \"transform\": [{\"filter\": {\"param\": \"param_1\", \"empty\": false}}]}, {\"mark\": {\"type\": \"text\", \"align\": \"left\", \"dx\": 5, \"dy\": -5}, \"encoding\": {\"color\": {\"field\": \"type\", \"type\": \"nominal\"}, \"text\": {\"condition\": {\"param\": \"param_1\", \"empty\": false, \"field\": \"y\", \"format\": \".3f\", \"type\": \"quantitative\"}, \"value\": \" \"}, \"x\": {\"field\": \"x\", \"type\": \"quantitative\"}, \"y\": {\"field\": \"y\", \"type\": \"quantitative\"}}}], \"data\": {\"name\": \"data-30341575550602bf7cfeb0f4d26eeb92\"}, \"height\": 200, \"title\": \"Sigmoid\", \"width\": 200}, {\"layer\": [{\"mark\": {\"type\": \"line\"}, \"encoding\": {\"color\": {\"field\": \"type\", \"type\": \"nominal\"}, \"x\": {\"field\": \"x\", \"type\": \"quantitative\"}, \"y\": {\"field\": \"y\", \"type\": \"quantitative\"}}}, {\"mark\": {\"type\": \"point\"}, \"encoding\": {\"opacity\": {\"value\": 0}, \"x\": {\"field\": \"x\", \"type\": \"quantitative\"}}, \"name\": \"view_2\"}, {\"mark\": {\"type\": \"point\"}, \"encoding\": {\"color\": {\"field\": \"type\", \"type\": \"nominal\"}, \"opacity\": {\"condition\": {\"param\": \"param_2\", \"value\": 1, \"empty\": false}, \"value\": 0}, \"x\": {\"field\": \"x\", \"type\": \"quantitative\"}, \"y\": {\"field\": \"y\", \"type\": \"quantitative\"}}}, {\"mark\": {\"type\": \"rule\", \"color\": \"gray\"}, \"encoding\": {\"x\": {\"field\": \"x\", \"type\": \"quantitative\"}}, \"transform\": [{\"filter\": {\"param\": \"param_2\", \"empty\": false}}]}, {\"mark\": {\"type\": \"text\", \"align\": \"left\", \"dx\": 5, \"dy\": -5}, \"encoding\": {\"color\": {\"field\": \"type\", \"type\": \"nominal\"}, \"text\": {\"condition\": {\"param\": \"param_2\", \"empty\": false, \"field\": \"y\", \"format\": \".3f\", \"type\": \"quantitative\"}, \"value\": \" \"}, \"x\": {\"field\": \"x\", \"type\": \"quantitative\"}, \"y\": {\"field\": \"y\", \"type\": \"quantitative\"}}}], \"data\": {\"name\": \"data-3812c1707a0629a539ce945acabaf51e\"}, \"height\": 200, \"title\": \"Tanh\", \"width\": 200}, {\"layer\": [{\"mark\": {\"type\": \"line\"}, \"encoding\": {\"color\": {\"field\": \"type\", \"type\": \"nominal\"}, \"x\": {\"field\": \"x\", \"type\": \"quantitative\"}, \"y\": {\"field\": \"y\", \"type\": \"quantitative\"}}}, {\"mark\": {\"type\": \"point\"}, \"encoding\": {\"opacity\": {\"value\": 0}, \"x\": {\"field\": \"x\", \"type\": \"quantitative\"}}, \"name\": \"view_3\"}, {\"mark\": {\"type\": \"point\"}, \"encoding\": {\"color\": {\"field\": \"type\", \"type\": \"nominal\"}, \"opacity\": {\"condition\": {\"param\": \"param_3\", \"value\": 1, \"empty\": false}, \"value\": 0}, \"x\": {\"field\": \"x\", \"type\": \"quantitative\"}, \"y\": {\"field\": \"y\", \"type\": \"quantitative\"}}}, {\"mark\": {\"type\": \"rule\", \"color\": \"gray\"}, \"encoding\": {\"x\": {\"field\": \"x\", \"type\": \"quantitative\"}}, \"transform\": [{\"filter\": {\"param\": \"param_3\", \"empty\": false}}]}, {\"mark\": {\"type\": \"text\", \"align\": \"left\", \"dx\": 5, \"dy\": -5}, \"encoding\": {\"color\": {\"field\": \"type\", \"type\": \"nominal\"}, \"text\": {\"condition\": {\"param\": \"param_3\", \"empty\": false, \"field\": \"y\", \"format\": \".3f\", \"type\": \"quantitative\"}, \"value\": \" \"}, \"x\": {\"field\": \"x\", \"type\": \"quantitative\"}, \"y\": {\"field\": \"y\", \"type\": \"quantitative\"}}}], \"data\": {\"name\": \"data-fa50dd1ba2199baff2f30f4d11a13064\"}, \"height\": 200, \"title\": \"ReLU\", \"width\": 200}], \"params\": [{\"name\": \"param_1\", \"select\": {\"type\": \"point\", \"fields\": [\"x\"], \"nearest\": true, \"on\": \"mouseover\"}, \"views\": [\"view_1\"]}, {\"name\": \"param_2\", \"select\": {\"type\": \"point\", \"fields\": [\"x\"], \"nearest\": true, \"on\": \"mouseover\"}, \"views\": [\"view_2\"]}, {\"name\": \"param_3\", \"select\": {\"type\": \"point\", \"fields\": [\"x\"], \"nearest\": true, \"on\": \"mouseover\"}, \"views\": [\"view_3\"]}], \"$schema\": \"https://vega.github.io/schema/vega-lite/v5.17.0.json\", \"datasets\": {\"data-30341575550602bf7cfeb0f4d26eeb92\": [{\"x\": -6.0, \"type\": \"fx\", \"y\": 0.0024726231566347743}, {\"x\": -5.878787878787879, \"type\": \"fx\", \"y\": 0.0027903670124155306}, {\"x\": -5.757575757575758, \"type\": \"fx\", \"y\": 0.0031488135776798513}, {\"x\": -5.636363636363637, \"type\": \"fx\", \"y\": 0.0035531416132018024}, {\"x\": -5.515151515151516, \"type\": \"fx\", \"y\": 0.004009179176994465}, {\"x\": -5.393939393939394, \"type\": \"fx\", \"y\": 0.004523482404748944}, {\"x\": -5.2727272727272725, \"type\": \"fx\", \"y\": 0.005103423128217307}, {\"x\": -5.151515151515151, \"type\": \"fx\", \"y\": 0.0057572861219081835}, {\"x\": -5.03030303030303, \"type\": \"fx\", \"y\": 0.0064943767798374755}, {\"x\": -4.909090909090909, \"type\": \"fx\", \"y\": 0.007325140014281564}, {\"x\": -4.787878787878788, \"type\": \"fx\", \"y\": 0.008261291129496416}, {\"x\": -4.666666666666666, \"type\": \"fx\", \"y\": 0.009315959345066693}, {\"x\": -4.545454545454545, \"type\": \"fx\", \"y\": 0.010503844513285425}, {\"x\": -4.424242424242424, \"type\": \"fx\", \"y\": 0.01184138737711565}, {\"x\": -4.303030303030303, \"type\": \"fx\", \"y\": 0.013346953430790894}, {\"x\": -4.181818181818182, \"type\": \"fx\", \"y\": 0.015041030051032}, {\"x\": -4.0606060606060606, \"type\": \"fx\", \"y\": 0.016946436036007675}, {\"x\": -3.9393939393939394, \"type\": \"fx\", \"y\": 0.019088541989923387}, {\"x\": -3.8181818181818183, \"type\": \"fx\", \"y\": 0.021495499087533926}, {\"x\": -3.696969696969697, \"type\": \"fx\", \"y\": 0.02419847260524924}, {\"x\": -3.5757575757575757, \"type\": \"fx\", \"y\": 0.027231875171744854}, {\"x\": -3.4545454545454546, \"type\": \"fx\", \"y\": 0.030633592928996325}, {\"x\": -3.333333333333333, \"type\": \"fx\", \"y\": 0.03444519566621118}, {\"x\": -3.212121212121212, \"type\": \"fx\", \"y\": 0.03871211946576639}, {\"x\": -3.090909090909091, \"type\": \"fx\", \"y\": 0.043483807471679}, {\"x\": -2.9696969696969697, \"type\": \"fx\", \"y\": 0.04881379107673922}, {\"x\": -2.8484848484848486, \"type\": \"fx\", \"y\": 0.05475969018839037}, {\"x\": -2.727272727272727, \"type\": \"fx\", \"y\": 0.0613831074034922}, {\"x\": -2.606060606060606, \"type\": \"fx\", \"y\": 0.06874938711169992}, {\"x\": -2.484848484848485, \"type\": \"fx\", \"y\": 0.07692720707958849}, {\"x\": -2.3636363636363633, \"type\": \"fx\", \"y\": 0.08598796739923162}, {\"x\": -2.242424242424242, \"type\": \"fx\", \"y\": 0.09600494042300453}, {\"x\": -2.121212121212121, \"type\": \"fx\", \"y\": 0.10705214621417715}, {\"x\": -2.0, \"type\": \"fx\", \"y\": 0.11920292202211755}, {\"x\": -1.878787878787879, \"type\": \"fx\", \"y\": 0.13252816232963247}, {\"x\": -1.7575757575757578, \"type\": \"fx\", \"y\": 0.1470942190926644}, {\"x\": -1.6363636363636367, \"type\": \"fx\", \"y\": 0.16296047070232164}, {\"x\": -1.5151515151515147, \"type\": \"fx\", \"y\": 0.18017659335766986}, {\"x\": -1.3939393939393936, \"type\": \"fx\", \"y\": 0.198779599693007}, {\"x\": -1.2727272727272725, \"type\": \"fx\", \"y\": 0.21879074544665134}, {\"x\": -1.1515151515151514, \"type\": \"fx\", \"y\": 0.2402124432660242}, {\"x\": -1.0303030303030303, \"type\": \"fx\", \"y\": 0.26302535963951745}, {\"x\": -0.9090909090909092, \"type\": \"fx\", \"y\": 0.2871859013825026}, {\"x\": -0.7878787878787881, \"type\": \"fx\", \"y\": 0.3126243161650685}, {\"x\": -0.6666666666666661, \"type\": \"fx\", \"y\": 0.33924363123418294}, {\"x\": -0.545454545454545, \"type\": \"fx\", \"y\": 0.3669196307451676}, {\"x\": -0.42424242424242387, \"type\": \"fx\", \"y\": 0.39550202228288817}, {\"x\": -0.30303030303030276, \"type\": \"fx\", \"y\": 0.42481686806284763}, {\"x\": -0.18181818181818166, \"type\": \"fx\", \"y\": 0.45467026111147996}, {\"x\": -0.06060606060606055, \"type\": \"fx\", \"y\": 0.48485312089131455}, {\"x\": 0.06060606060606055, \"type\": \"fx\", \"y\": 0.5151468791086855}, {\"x\": 0.18181818181818166, \"type\": \"fx\", \"y\": 0.54532973888852}, {\"x\": 0.30303030303030276, \"type\": \"fx\", \"y\": 0.5751831319371523}, {\"x\": 0.42424242424242475, \"type\": \"fx\", \"y\": 0.6044979777171121}, {\"x\": 0.5454545454545459, \"type\": \"fx\", \"y\": 0.6330803692548327}, {\"x\": 0.666666666666667, \"type\": \"fx\", \"y\": 0.6607563687658172}, {\"x\": 0.7878787878787881, \"type\": \"fx\", \"y\": 0.6873756838349314}, {\"x\": 0.9090909090909092, \"type\": \"fx\", \"y\": 0.7128140986174974}, {\"x\": 1.0303030303030303, \"type\": \"fx\", \"y\": 0.7369746403604825}, {\"x\": 1.1515151515151514, \"type\": \"fx\", \"y\": 0.7597875567339759}, {\"x\": 1.2727272727272734, \"type\": \"fx\", \"y\": 0.7812092545533488}, {\"x\": 1.3939393939393945, \"type\": \"fx\", \"y\": 0.8012204003069932}, {\"x\": 1.5151515151515156, \"type\": \"fx\", \"y\": 0.8198234066423302}, {\"x\": 1.6363636363636367, \"type\": \"fx\", \"y\": 0.8370395292976784}, {\"x\": 1.7575757575757578, \"type\": \"fx\", \"y\": 0.8529057809073356}, {\"x\": 1.878787878787879, \"type\": \"fx\", \"y\": 0.8674718376703675}, {\"x\": 2.0, \"type\": \"fx\", \"y\": 0.8807970779778823}, {\"x\": 2.121212121212121, \"type\": \"fx\", \"y\": 0.8929478537858229}, {\"x\": 2.242424242424242, \"type\": \"fx\", \"y\": 0.9039950595769954}, {\"x\": 2.3636363636363633, \"type\": \"fx\", \"y\": 0.9140120326007685}, {\"x\": 2.4848484848484844, \"type\": \"fx\", \"y\": 0.9230727929204114}, {\"x\": 2.6060606060606055, \"type\": \"fx\", \"y\": 0.9312506128883}, {\"x\": 2.7272727272727266, \"type\": \"fx\", \"y\": 0.9386168925965077}, {\"x\": 2.8484848484848495, \"type\": \"fx\", \"y\": 0.9452403098116096}, {\"x\": 2.9696969696969706, \"type\": \"fx\", \"y\": 0.9511862089232608}, {\"x\": 3.0909090909090917, \"type\": \"fx\", \"y\": 0.9565161925283211}, {\"x\": 3.212121212121213, \"type\": \"fx\", \"y\": 0.9612878805342336}, {\"x\": 3.333333333333334, \"type\": \"fx\", \"y\": 0.9655548043337889}, {\"x\": 3.454545454545455, \"type\": \"fx\", \"y\": 0.9693664070710037}, {\"x\": 3.575757575757576, \"type\": \"fx\", \"y\": 0.9727681248282551}, {\"x\": 3.6969696969696972, \"type\": \"fx\", \"y\": 0.9758015273947507}, {\"x\": 3.8181818181818183, \"type\": \"fx\", \"y\": 0.9785045009124661}, {\"x\": 3.9393939393939394, \"type\": \"fx\", \"y\": 0.9809114580100765}, {\"x\": 4.0606060606060606, \"type\": \"fx\", \"y\": 0.9830535639639922}, {\"x\": 4.181818181818182, \"type\": \"fx\", \"y\": 0.984958969948968}, {\"x\": 4.303030303030303, \"type\": \"fx\", \"y\": 0.9866530465692092}, {\"x\": 4.424242424242424, \"type\": \"fx\", \"y\": 0.9881586126228844}, {\"x\": 4.545454545454545, \"type\": \"fx\", \"y\": 0.9894961554867145}, {\"x\": 4.666666666666668, \"type\": \"fx\", \"y\": 0.9906840406549333}, {\"x\": 4.787878787878789, \"type\": \"fx\", \"y\": 0.9917387088705035}, {\"x\": 4.90909090909091, \"type\": \"fx\", \"y\": 0.9926748599857185}, {\"x\": 5.030303030303031, \"type\": \"fx\", \"y\": 0.9935056232201624}, {\"x\": 5.151515151515152, \"type\": \"fx\", \"y\": 0.9942427138780918}, {\"x\": 5.272727272727273, \"type\": \"fx\", \"y\": 0.9948965768717827}, {\"x\": 5.3939393939393945, \"type\": \"fx\", \"y\": 0.995476517595251}, {\"x\": 5.515151515151516, \"type\": \"fx\", \"y\": 0.9959908208230056}, {\"x\": 5.636363636363637, \"type\": \"fx\", \"y\": 0.9964468583867983}, {\"x\": 5.757575757575758, \"type\": \"fx\", \"y\": 0.9968511864223202}, {\"x\": 5.878787878787879, \"type\": \"fx\", \"y\": 0.9972096329875845}, {\"x\": 6.0, \"type\": \"fx\", \"y\": 0.9975273768433653}, {\"x\": -6.0, \"type\": \"dfx\", \"y\": 0.002466509291360048}, {\"x\": -5.878787878787879, \"type\": \"dfx\", \"y\": 0.0027825808643515536}, {\"x\": -5.757575757575758, \"type\": \"dfx\", \"y\": 0.0031388985507328705}, {\"x\": -5.636363636363637, \"type\": \"dfx\", \"y\": 0.0035405167978783364}, {\"x\": -5.515151515151516, \"type\": \"dfx\", \"y\": 0.0039931056593212185}, {\"x\": -5.393939393939394, \"type\": \"dfx\", \"y\": 0.0045030205116828705}, {\"x\": -5.2727272727272725, \"type\": \"dfx\", \"y\": 0.0050773782005916835}, {\"x\": -5.151515151515151, \"type\": \"dfx\", \"y\": 0.005724139778418667}, {\"x\": -5.03030303030303, \"type\": \"dfx\", \"y\": 0.006452199850078983}, {\"x\": -4.909090909090909, \"type\": \"dfx\", \"y\": 0.007271482338052735}, {\"x\": -4.787878787878788, \"type\": \"dfx\", \"y\": 0.00819304219837012}, {\"x\": -4.666666666666666, \"type\": \"dfx\", \"y\": 0.009229172246547757}, {\"x\": -4.545454545454545, \"type\": \"dfx\", \"y\": 0.010393513763726148}, {\"x\": -4.424242424242424, \"type\": \"dfx\", \"y\": 0.011701168922100736}, {\"x\": -4.303030303030303, \"type\": \"dfx\", \"y\": 0.013168812264907194}, {\"x\": -4.181818181818182, \"type\": \"dfx\", \"y\": 0.014814797466035952}, {\"x\": -4.0606060606060606, \"type\": \"dfx\", \"y\": 0.016659254341685175}, {\"x\": -3.9393939393939394, \"type\": \"dfx\", \"y\": 0.01872416955462232}, {\"x\": -3.8181818181818183, \"type\": \"dfx\", \"y\": 0.021033442606511753}, {\"x\": -3.696969696969697, \"type\": \"dfx\", \"y\": 0.023612906528822242}, {\"x\": -3.5757575757575757, \"type\": \"dfx\", \"y\": 0.02649030014637536}, {\"x\": -3.4545454545454546, \"type\": \"dfx\", \"y\": 0.02969517591325687}, {\"x\": -3.333333333333333, \"type\": \"dfx\", \"y\": 0.03325872416172761}, {\"x\": -3.212121212121212, \"type\": \"dfx\", \"y\": 0.03721349127223462}, {\"x\": -3.090909090909091, \"type\": \"dfx\", \"y\": 0.04159296595944496}, {\"x\": -2.9696969696969697, \"type\": \"dfx\", \"y\": 0.046431004877455676}, {\"x\": -2.8484848484848486, \"type\": \"dfx\", \"y\": 0.05176106651886188}, {\"x\": -2.727272727272727, \"type\": \"dfx\", \"y\": 0.05761522152898354}, {\"x\": -2.606060606060606, \"type\": \"dfx\", \"y\": 0.06402290888346554}, {\"x\": -2.484848484848485, \"type\": \"dfx\", \"y\": 0.0710094118905226}, {\"x\": -2.3636363636363633, \"type\": \"dfx\", \"y\": 0.07859403686178029}, {\"x\": -2.242424242424242, \"type\": \"dfx\", \"y\": 0.08678799183737988}, {\"x\": -2.121212121212121, \"type\": \"dfx\", \"y\": 0.09559198420511558}, {\"x\": -2.0, \"type\": \"dfx\", \"y\": 0.1049935854035065}, {\"x\": -1.878787878787879, \"type\": \"dfx\", \"y\": 0.11496444851916304}, {\"x\": -1.7575757575757578, \"type\": \"dfx\", \"y\": 0.12545750980218365}, {\"x\": -1.6363636363636367, \"type\": \"dfx\", \"y\": 0.1364043556907994}, {\"x\": -1.5151515151515147, \"type\": \"dfx\", \"y\": 0.14771298856369475}, {\"x\": -1.3939393939393936, \"type\": \"dfx\", \"y\": 0.15926627043889488}, {\"x\": -1.2727272727272725, \"type\": \"dfx\", \"y\": 0.17092135515354995}, {\"x\": -1.1515151515151514, \"type\": \"dfx\", \"y\": 0.1825104253661913}, {\"x\": -1.0303030303030303, \"type\": \"dfx\", \"y\": 0.19384301982601995}, {\"x\": -0.9090909090909092, \"type\": \"dfx\", \"y\": 0.2047101594296221}, {\"x\": -0.7878787878787881, \"type\": \"dfx\", \"y\": 0.2148903531073918}, {\"x\": -0.6666666666666661, \"type\": \"dfx\", \"y\": 0.22415738990122866}, {\"x\": -0.545454545454545, \"type\": \"dfx\", \"y\": 0.23228961531899744}, {\"x\": -0.42424242424242387, \"type\": \"dfx\", \"y\": 0.23908017265303397}, {\"x\": -0.30303030303030276, \"type\": \"dfx\", \"y\": 0.24434749667212072}, {\"x\": -0.18181818181818166, \"type\": \"dfx\", \"y\": 0.2479452147722986}, {\"x\": -0.06060606060606055, \"type\": \"dfx\", \"y\": 0.2497705720532669}, {\"x\": 0.06060606060606055, \"type\": \"dfx\", \"y\": 0.24977057205326686}, {\"x\": 0.18181818181818166, \"type\": \"dfx\", \"y\": 0.2479452147722986}, {\"x\": 0.30303030303030276, \"type\": \"dfx\", \"y\": 0.24434749667212075}, {\"x\": 0.42424242424242475, \"type\": \"dfx\", \"y\": 0.23908017265303394}, {\"x\": 0.5454545454545459, \"type\": \"dfx\", \"y\": 0.2322896153189974}, {\"x\": 0.666666666666667, \"type\": \"dfx\", \"y\": 0.22415738990122858}, {\"x\": 0.7878787878787881, \"type\": \"dfx\", \"y\": 0.21489035310739182}, {\"x\": 0.9090909090909092, \"type\": \"dfx\", \"y\": 0.20471015942962206}, {\"x\": 1.0303030303030303, \"type\": \"dfx\", \"y\": 0.19384301982601995}, {\"x\": 1.1515151515151514, \"type\": \"dfx\", \"y\": 0.18251042536619125}, {\"x\": 1.2727272727272734, \"type\": \"dfx\", \"y\": 0.1709213551535499}, {\"x\": 1.3939393939393945, \"type\": \"dfx\", \"y\": 0.1592662704388948}, {\"x\": 1.5151515151515156, \"type\": \"dfx\", \"y\": 0.1477129885636947}, {\"x\": 1.6363636363636367, \"type\": \"dfx\", \"y\": 0.13640435569079937}, {\"x\": 1.7575757575757578, \"type\": \"dfx\", \"y\": 0.12545750980218365}, {\"x\": 1.878787878787879, \"type\": \"dfx\", \"y\": 0.11496444851916307}, {\"x\": 2.0, \"type\": \"dfx\", \"y\": 0.10499358540350662}, {\"x\": 2.121212121212121, \"type\": \"dfx\", \"y\": 0.09559198420511558}, {\"x\": 2.242424242424242, \"type\": \"dfx\", \"y\": 0.08678799183737991}, {\"x\": 2.3636363636363633, \"type\": \"dfx\", \"y\": 0.07859403686178024}, {\"x\": 2.4848484848484844, \"type\": \"dfx\", \"y\": 0.07100941189052265}, {\"x\": 2.6060606060606055, \"type\": \"dfx\", \"y\": 0.0640229088834656}, {\"x\": 2.7272727272727266, \"type\": \"dfx\", \"y\": 0.057615221528983615}, {\"x\": 2.8484848484848495, \"type\": \"dfx\", \"y\": 0.051761066518861934}, {\"x\": 2.9696969696969706, \"type\": \"dfx\", \"y\": 0.046431004877455676}, {\"x\": 3.0909090909090917, \"type\": \"dfx\", \"y\": 0.041592965959444866}, {\"x\": 3.212121212121213, \"type\": \"dfx\", \"y\": 0.03721349127223459}, {\"x\": 3.333333333333334, \"type\": \"dfx\", \"y\": 0.0332587241617275}, {\"x\": 3.454545454545455, \"type\": \"dfx\", \"y\": 0.029695175913256808}, {\"x\": 3.575757575757576, \"type\": \"dfx\", \"y\": 0.026490300146375365}, {\"x\": 3.6969696969696972, \"type\": \"dfx\", \"y\": 0.02361290652882232}, {\"x\": 3.8181818181818183, \"type\": \"dfx\", \"y\": 0.021033442606511726}, {\"x\": 3.9393939393939394, \"type\": \"dfx\", \"y\": 0.01872416955462242}, {\"x\": 4.0606060606060606, \"type\": \"dfx\", \"y\": 0.01665925434168526}, {\"x\": 4.181818181818182, \"type\": \"dfx\", \"y\": 0.014814797466035921}, {\"x\": 4.303030303030303, \"type\": \"dfx\", \"y\": 0.013168812264907143}, {\"x\": 4.424242424242424, \"type\": \"dfx\", \"y\": 0.011701168922100685}, {\"x\": 4.545454545454545, \"type\": \"dfx\", \"y\": 0.010393513763726178}, {\"x\": 4.666666666666668, \"type\": \"dfx\", \"y\": 0.009229172246547747}, {\"x\": 4.787878787878789, \"type\": \"dfx\", \"y\": 0.008193042198370176}, {\"x\": 4.90909090909091, \"type\": \"dfx\", \"y\": 0.0072714823380527}, {\"x\": 5.030303030303031, \"type\": \"dfx\", \"y\": 0.006452199850079059}, {\"x\": 5.151515151515152, \"type\": \"dfx\", \"y\": 0.005724139778418662}, {\"x\": 5.272727272727273, \"type\": \"dfx\", \"y\": 0.005077378200591698}, {\"x\": 5.3939393939393945, \"type\": \"dfx\", \"y\": 0.004503020511682906}, {\"x\": 5.515151515151516, \"type\": \"dfx\", \"y\": 0.003993105659321147}, {\"x\": 5.636363636363637, \"type\": \"dfx\", \"y\": 0.003540516797878283}, {\"x\": 5.757575757575758, \"type\": \"dfx\", \"y\": 0.00313889855073284}, {\"x\": 5.878787878787879, \"type\": \"dfx\", \"y\": 0.002782580864351552}, {\"x\": 6.0, \"type\": \"dfx\", \"y\": 0.002466509291359931}], \"data-3812c1707a0629a539ce945acabaf51e\": [{\"x\": -6.0, \"type\": \"fx\", \"y\": -0.9999877116507956}, {\"x\": -5.878787878787879, \"type\": \"fx\", \"y\": -0.9999843405565366}, {\"x\": -5.757575757575758, \"type\": \"fx\", \"y\": -0.999980044670597}, {\"x\": -5.636363636363637, \"type\": \"fx\", \"y\": -0.9999745703007987}, {\"x\": -5.515151515151516, \"type\": \"fx\", \"y\": -0.9999675941648057}, {\"x\": -5.393939393939394, \"type\": \"fx\", \"y\": -0.9999587043031277}, {\"x\": -5.2727272727272725, \"type\": \"fx\", \"y\": -0.9999473757583944}, {\"x\": -5.151515151515151, \"type\": \"fx\", \"y\": -0.9999329395866619}, {\"x\": -5.03030303030303, \"type\": \"fx\", \"y\": -0.9999145433740244}, {\"x\": -4.909090909090909, \"type\": \"fx\", \"y\": -0.9998911009322468}, {\"x\": -4.787878787878788, \"type\": \"fx\", \"y\": -0.9998612282115094}, {\"x\": -4.666666666666666, \"type\": \"fx\", \"y\": -0.9998231616599621}, {\"x\": -4.545454545454545, \"type\": \"fx\", \"y\": -0.999774654232203}, {\"x\": -4.424242424242424, \"type\": \"fx\", \"y\": -0.99971284294352}, {\"x\": -4.303030303030303, \"type\": \"fx\", \"y\": -0.9996340802102008}, {\"x\": -4.181818181818182, \"type\": \"fx\", \"y\": -0.9995337191162993}, {\"x\": -4.0606060606060606, \"type\": \"fx\", \"y\": -0.999405840089208}, {\"x\": -3.9393939393939394, \"type\": \"fx\", \"y\": -0.9992429031082574}, {\"x\": -3.8181818181818183, \"type\": \"fx\", \"y\": -0.9990353053383588}, {\"x\": -3.696969696969697, \"type\": \"fx\", \"y\": -0.9987708187638747}, {\"x\": -3.5757575757575757, \"type\": \"fx\", \"y\": -0.9984338757461595}, {\"x\": -3.4545454545454546, \"type\": \"fx\", \"y\": -0.9980046621516977}, {\"x\": -3.333333333333333, \"type\": \"fx\", \"y\": -0.9974579674738373}, {\"x\": -3.212121212121212, \"type\": \"fx\", \"y\": -0.9967617288635928}, {\"x\": -3.090909090909091, \"type\": \"fx\", \"y\": -0.9958751908853415}, {\"x\": -2.9696969696969697, \"type\": \"fx\", \"y\": -0.9947465849189278}, {\"x\": -2.8484848484848486, \"type\": \"fx\", \"y\": -0.9933102114842179}, {\"x\": -2.727272727272727, \"type\": \"fx\", \"y\": -0.9914827858961799}, {\"x\": -2.606060606060606, \"type\": \"fx\", \"y\": -0.9891588839768395}, {\"x\": -2.484848484848485, \"type\": \"fx\", \"y\": -0.9862053029761211}, {\"x\": -2.3636363636363633, \"type\": \"fx\", \"y\": -0.9824541388014812}, {\"x\": -2.242424242424242, \"type\": \"fx\", \"y\": -0.9776943835039825}, {\"x\": -2.121212121212121, \"type\": \"fx\", \"y\": -0.9716618821549914}, {\"x\": -2.0, \"type\": \"fx\", \"y\": -0.9640275800758169}, {\"x\": -1.878787878787879, \"type\": \"fx\", \"y\": -0.9543841763626246}, {\"x\": -1.7575757575757578, \"type\": \"fx\", \"y\": -0.9422316296368585}, {\"x\": -1.6363636363636367, \"type\": \"fx\", \"y\": -0.9269625051147781}, {\"x\": -1.5151515151515147, \"type\": \"fx\", \"y\": -0.9078489875013611}, {\"x\": -1.3939393939393936, \"type\": \"fx\", \"y\": -0.8840345823555281}, {\"x\": -1.2727272727272725, \"type\": \"fx\", \"y\": -0.8545351056874642}, {\"x\": -1.1515151515151514, \"type\": \"fx\", \"y\": -0.8182553932160255}, {\"x\": -1.0303030303030303, \"type\": \"fx\", \"y\": -0.7740298464722797}, {\"x\": -0.9090909090909092, \"type\": \"fx\", \"y\": -0.7206956331664798}, {\"x\": -0.7878787878787881, \"type\": \"fx\", \"y\": -0.6572056956933132}, {\"x\": -0.6666666666666661, \"type\": \"fx\", \"y\": -0.5827829453479096}, {\"x\": -0.545454545454545, \"type\": \"fx\", \"y\": -0.4971057413906744}, {\"x\": -0.42424242424242387, \"type\": \"fx\", \"y\": -0.40049841661957153}, {\"x\": -0.30303030303030276, \"type\": \"fx\", \"y\": -0.2940833004116079}, {\"x\": -0.18181818181818166, \"type\": \"fx\", \"y\": -0.1798408185251078}, {\"x\": -0.06060606060606055, \"type\": \"fx\", \"y\": -0.06053196553648288}, {\"x\": 0.06060606060606055, \"type\": \"fx\", \"y\": 0.06053196553648288}, {\"x\": 0.18181818181818166, \"type\": \"fx\", \"y\": 0.1798408185251077}, {\"x\": 0.30303030303030276, \"type\": \"fx\", \"y\": 0.29408330041160813}, {\"x\": 0.42424242424242475, \"type\": \"fx\", \"y\": 0.4004984166195722}, {\"x\": 0.5454545454545459, \"type\": \"fx\", \"y\": 0.4971057413906752}, {\"x\": 0.666666666666667, \"type\": \"fx\", \"y\": 0.5827829453479101}, {\"x\": 0.7878787878787881, \"type\": \"fx\", \"y\": 0.6572056956933132}, {\"x\": 0.9090909090909092, \"type\": \"fx\", \"y\": 0.72069563316648}, {\"x\": 1.0303030303030303, \"type\": \"fx\", \"y\": 0.7740298464722797}, {\"x\": 1.1515151515151514, \"type\": \"fx\", \"y\": 0.8182553932160255}, {\"x\": 1.2727272727272734, \"type\": \"fx\", \"y\": 0.8545351056874644}, {\"x\": 1.3939393939393945, \"type\": \"fx\", \"y\": 0.8840345823555282}, {\"x\": 1.5151515151515156, \"type\": \"fx\", \"y\": 0.9078489875013613}, {\"x\": 1.6363636363636367, \"type\": \"fx\", \"y\": 0.9269625051147783}, {\"x\": 1.7575757575757578, \"type\": \"fx\", \"y\": 0.9422316296368585}, {\"x\": 1.878787878787879, \"type\": \"fx\", \"y\": 0.9543841763626248}, {\"x\": 2.0, \"type\": \"fx\", \"y\": 0.9640275800758169}, {\"x\": 2.121212121212121, \"type\": \"fx\", \"y\": 0.9716618821549914}, {\"x\": 2.242424242424242, \"type\": \"fx\", \"y\": 0.9776943835039826}, {\"x\": 2.3636363636363633, \"type\": \"fx\", \"y\": 0.9824541388014814}, {\"x\": 2.4848484848484844, \"type\": \"fx\", \"y\": 0.9862053029761209}, {\"x\": 2.6060606060606055, \"type\": \"fx\", \"y\": 0.9891588839768393}, {\"x\": 2.7272727272727266, \"type\": \"fx\", \"y\": 0.9914827858961799}, {\"x\": 2.8484848484848495, \"type\": \"fx\", \"y\": 0.993310211484218}, {\"x\": 2.9696969696969706, \"type\": \"fx\", \"y\": 0.9947465849189279}, {\"x\": 3.0909090909090917, \"type\": \"fx\", \"y\": 0.9958751908853416}, {\"x\": 3.212121212121213, \"type\": \"fx\", \"y\": 0.9967617288635928}, {\"x\": 3.333333333333334, \"type\": \"fx\", \"y\": 0.9974579674738373}, {\"x\": 3.454545454545455, \"type\": \"fx\", \"y\": 0.9980046621516976}, {\"x\": 3.575757575757576, \"type\": \"fx\", \"y\": 0.9984338757461597}, {\"x\": 3.6969696969696972, \"type\": \"fx\", \"y\": 0.9987708187638746}, {\"x\": 3.8181818181818183, \"type\": \"fx\", \"y\": 0.9990353053383587}, {\"x\": 3.9393939393939394, \"type\": \"fx\", \"y\": 0.9992429031082573}, {\"x\": 4.0606060606060606, \"type\": \"fx\", \"y\": 0.9994058400892079}, {\"x\": 4.181818181818182, \"type\": \"fx\", \"y\": 0.9995337191162994}, {\"x\": 4.303030303030303, \"type\": \"fx\", \"y\": 0.9996340802102008}, {\"x\": 4.424242424242424, \"type\": \"fx\", \"y\": 0.9997128429435203}, {\"x\": 4.545454545454545, \"type\": \"fx\", \"y\": 0.999774654232203}, {\"x\": 4.666666666666668, \"type\": \"fx\", \"y\": 0.9998231616599622}, {\"x\": 4.787878787878789, \"type\": \"fx\", \"y\": 0.9998612282115094}, {\"x\": 4.90909090909091, \"type\": \"fx\", \"y\": 0.9998911009322469}, {\"x\": 5.030303030303031, \"type\": \"fx\", \"y\": 0.9999145433740242}, {\"x\": 5.151515151515152, \"type\": \"fx\", \"y\": 0.9999329395866616}, {\"x\": 5.272727272727273, \"type\": \"fx\", \"y\": 0.9999473757583943}, {\"x\": 5.3939393939393945, \"type\": \"fx\", \"y\": 0.9999587043031275}, {\"x\": 5.515151515151516, \"type\": \"fx\", \"y\": 0.9999675941648059}, {\"x\": 5.636363636363637, \"type\": \"fx\", \"y\": 0.9999745703007987}, {\"x\": 5.757575757575758, \"type\": \"fx\", \"y\": 0.9999800446705969}, {\"x\": 5.878787878787879, \"type\": \"fx\", \"y\": 0.9999843405565365}, {\"x\": 6.0, \"type\": \"fx\", \"y\": 0.9999877116507956}, {\"x\": -6.0, \"type\": \"dfx\", \"y\": 2.4576547405286142e-05}, {\"x\": -5.878787878787879, \"type\": \"dfx\", \"y\": 3.1318641708577566e-05}, {\"x\": -5.757575757575758, \"type\": \"dfx\", \"y\": 3.991026059091407e-05}, {\"x\": -5.636363636363637, \"type\": \"dfx\", \"y\": 5.085875173294063e-05}, {\"x\": -5.515151515151516, \"type\": \"dfx\", \"y\": 6.48106202503218e-05}, {\"x\": -5.393939393939394, \"type\": \"dfx\", \"y\": 8.258968841001746e-05}, {\"x\": -5.2727272727272725, \"type\": \"dfx\", \"y\": 0.0001052457139003593}, {\"x\": -5.151515151515151, \"type\": \"dfx\", \"y\": 0.00013411632957727182}, {\"x\": -5.03030303030303, \"type\": \"dfx\", \"y\": 0.00017090594911628454}, {\"x\": -4.909090909090909, \"type\": \"dfx\", \"y\": 0.00021778627649948756}, {\"x\": -4.787878787878788, \"type\": \"dfx\", \"y\": 0.0002775243193720023}, {\"x\": -4.666666666666666, \"type\": \"dfx\", \"y\": 0.0003536454082773144}, {\"x\": -4.545454545454545, \"type\": \"dfx\", \"y\": 0.0004506407548788838}, {\"x\": -4.424242424242424, \"type\": \"dfx\", \"y\": 0.0005742316537848957}, {\"x\": -4.303030303030303, \"type\": \"dfx\", \"y\": 0.0007317056823057388}, {\"x\": -4.181818181818182, \"type\": \"dfx\", \"y\": 0.0009323443495389272}, {\"x\": -4.0606060606060606, \"type\": \"dfx\", \"y\": 0.0011879667955845274}, {\"x\": -3.9393939393939394, \"type\": \"dfx\", \"y\": 0.0015136205877818165}, {\"x\": -3.8181818181818183, \"type\": \"dfx\", \"y\": 0.0019284586874921406}, {\"x\": -3.696969696969697, \"type\": \"dfx\", \"y\": 0.0024568515857392725}, {\"x\": -3.5757575757575757, \"type\": \"dfx\", \"y\": 0.0031297957625024964}, {\"x\": -3.4545454545454546, \"type\": \"dfx\", \"y\": 0.003986694323475759}, {\"x\": -3.333333333333333, \"type\": \"dfx\", \"y\": 0.005077603122961349}, {\"x\": -3.212121212121212, \"type\": \"dfx\", \"y\": 0.00646605587286142}, {\"x\": -3.090909090909091, \"type\": \"dfx\", \"y\": 0.008232604179084668}, {\"x\": -2.9696969696969697, \"type\": \"dfx\", \"y\": 0.010479231792130395}, {\"x\": -2.8484848484848486, \"type\": \"dfx\", \"y\": 0.013334823761178227}, {\"x\": -2.727272727272727, \"type\": \"dfx\", \"y\": 0.01696188527154996}, {\"x\": -2.606060606060606, \"type\": \"dfx\", \"y\": 0.021564702249693424}, {\"x\": -2.484848484848485, \"type\": \"dfx\", \"y\": 0.027399100381777175}, {\"x\": -2.3636363636363633, \"type\": \"dfx\", \"y\": 0.03478386515183984}, {\"x\": -2.242424242424242, \"type\": \"dfx\", \"y\": 0.044113692464767595}, {\"x\": -2.121212121212121, \"type\": \"dfx\", \"y\": 0.05587318676701958}, {\"x\": -2.0, \"type\": \"dfx\", \"y\": 0.07065082485316443}, {\"x\": -1.878787878787879, \"type\": \"dfx\", \"y\": 0.08915084390863459}, {\"x\": -1.7575757575757578, \"type\": \"dfx\", \"y\": 0.11219955611186994}, {\"x\": -1.6363636363636367, \"type\": \"dfx\", \"y\": 0.14074051411133504}, {\"x\": -1.5151515151515147, \"type\": \"dfx\", \"y\": 0.17581021589275347}, {\"x\": -1.3939393939393936, \"type\": \"dfx\", \"y\": 0.218482857199487}, {\"x\": -1.2727272727272725, \"type\": \"dfx\", \"y\": 0.26976975314771445}, {\"x\": -1.1515151515151514, \"type\": \"dfx\", \"y\": 0.3304581114728875}, {\"x\": -1.0303030303030303, \"type\": \"dfx\", \"y\": 0.40087779677009916}, {\"x\": -0.9090909090909092, \"type\": \"dfx\", \"y\": 0.48059780433476684}, {\"x\": -0.7878787878787881, \"type\": \"dfx\", \"y\": 0.5680806735482682}, {\"x\": -0.6666666666666661, \"type\": \"dfx\", \"y\": 0.6603640386116154}, {\"x\": -0.545454545454545, \"type\": \"dfx\", \"y\": 0.7528858818764279}, {\"x\": -0.42424242424242387, \"type\": \"dfx\", \"y\": 0.839601018285216}, {\"x\": -0.30303030303030276, \"type\": \"dfx\", \"y\": 0.913515012419016}, {\"x\": -0.18181818181818166, \"type\": \"dfx\", \"y\": 0.9676572799922193}, {\"x\": -0.06060606060606055, \"type\": \"dfx\", \"y\": 0.9963358811482901}, {\"x\": 0.06060606060606055, \"type\": \"dfx\", \"y\": 0.9963358811482901}, {\"x\": 0.18181818181818166, \"type\": \"dfx\", \"y\": 0.9676572799922193}, {\"x\": 0.30303030303030276, \"type\": \"dfx\", \"y\": 0.9135150124190159}, {\"x\": 0.42424242424242475, \"type\": \"dfx\", \"y\": 0.8396010182852156}, {\"x\": 0.5454545454545459, \"type\": \"dfx\", \"y\": 0.7528858818764271}, {\"x\": 0.666666666666667, \"type\": \"dfx\", \"y\": 0.6603640386116149}, {\"x\": 0.7878787878787881, \"type\": \"dfx\", \"y\": 0.5680806735482682}, {\"x\": 0.9090909090909092, \"type\": \"dfx\", \"y\": 0.4805978043347665}, {\"x\": 1.0303030303030303, \"type\": \"dfx\", \"y\": 0.40087779677009916}, {\"x\": 1.1515151515151514, \"type\": \"dfx\", \"y\": 0.3304581114728875}, {\"x\": 1.2727272727272734, \"type\": \"dfx\", \"y\": 0.2697697531477141}, {\"x\": 1.3939393939393945, \"type\": \"dfx\", \"y\": 0.2184828571994868}, {\"x\": 1.5151515151515156, \"type\": \"dfx\", \"y\": 0.17581021589275303}, {\"x\": 1.6363636363636367, \"type\": \"dfx\", \"y\": 0.1407405141113346}, {\"x\": 1.7575757575757578, \"type\": \"dfx\", \"y\": 0.11219955611186994}, {\"x\": 1.878787878787879, \"type\": \"dfx\", \"y\": 0.08915084390863415}, {\"x\": 2.0, \"type\": \"dfx\", \"y\": 0.07065082485316443}, {\"x\": 2.121212121212121, \"type\": \"dfx\", \"y\": 0.05587318676701958}, {\"x\": 2.242424242424242, \"type\": \"dfx\", \"y\": 0.04411369246476737}, {\"x\": 2.3636363636363633, \"type\": \"dfx\", \"y\": 0.03478386515183962}, {\"x\": 2.4848484848484844, \"type\": \"dfx\", \"y\": 0.02739910038177762}, {\"x\": 2.6060606060606055, \"type\": \"dfx\", \"y\": 0.021564702249693868}, {\"x\": 2.7272727272727266, \"type\": \"dfx\", \"y\": 0.01696188527154996}, {\"x\": 2.8484848484848495, \"type\": \"dfx\", \"y\": 0.013334823761178005}, {\"x\": 2.9696969696969706, \"type\": \"dfx\", \"y\": 0.010479231792130284}, {\"x\": 3.0909090909090917, \"type\": \"dfx\", \"y\": 0.008232604179084446}, {\"x\": 3.212121212121213, \"type\": \"dfx\", \"y\": 0.00646605587286142}, {\"x\": 3.333333333333334, \"type\": \"dfx\", \"y\": 0.005077603122961349}, {\"x\": 3.454545454545455, \"type\": \"dfx\", \"y\": 0.003986694323475981}, {\"x\": 3.575757575757576, \"type\": \"dfx\", \"y\": 0.0031297957625020523}, {\"x\": 3.6969696969696972, \"type\": \"dfx\", \"y\": 0.0024568515857394946}, {\"x\": 3.8181818181818183, \"type\": \"dfx\", \"y\": 0.0019284586874923626}, {\"x\": 3.9393939393939394, \"type\": \"dfx\", \"y\": 0.0015136205877820386}, {\"x\": 4.0606060606060606, \"type\": \"dfx\", \"y\": 0.0011879667955847495}, {\"x\": 4.181818181818182, \"type\": \"dfx\", \"y\": 0.0009323443495387052}, {\"x\": 4.303030303030303, \"type\": \"dfx\", \"y\": 0.0007317056823057388}, {\"x\": 4.424242424242424, \"type\": \"dfx\", \"y\": 0.0005742316537844516}, {\"x\": 4.545454545454545, \"type\": \"dfx\", \"y\": 0.0004506407548788838}, {\"x\": 4.666666666666668, \"type\": \"dfx\", \"y\": 0.00035364540827709234}, {\"x\": 4.787878787878789, \"type\": \"dfx\", \"y\": 0.0002775243193720023}, {\"x\": 4.90909090909091, \"type\": \"dfx\", \"y\": 0.00021778627649926552}, {\"x\": 5.030303030303031, \"type\": \"dfx\", \"y\": 0.00017090594911672863}, {\"x\": 5.151515151515152, \"type\": \"dfx\", \"y\": 0.0001341163295777159}, {\"x\": 5.272727272727273, \"type\": \"dfx\", \"y\": 0.00010524571390058135}, {\"x\": 5.3939393939393945, \"type\": \"dfx\", \"y\": 8.258968841046155e-05}, {\"x\": 5.515151515151516, \"type\": \"dfx\", \"y\": 6.481062025009976e-05}, {\"x\": 5.636363636363637, \"type\": \"dfx\", \"y\": 5.085875173294063e-05}, {\"x\": 5.757575757575758, \"type\": \"dfx\", \"y\": 3.9910260591136115e-05}, {\"x\": 5.878787878787879, \"type\": \"dfx\", \"y\": 3.131864170879961e-05}, {\"x\": 6.0, \"type\": \"dfx\", \"y\": 2.4576547405286142e-05}], \"data-fa50dd1ba2199baff2f30f4d11a13064\": [{\"x\": -6.0, \"type\": \"fx\", \"y\": 0.0}, {\"x\": -5.878787878787879, \"type\": \"fx\", \"y\": 0.0}, {\"x\": -5.757575757575758, \"type\": \"fx\", \"y\": 0.0}, {\"x\": -5.636363636363637, \"type\": \"fx\", \"y\": 0.0}, {\"x\": -5.515151515151516, \"type\": \"fx\", \"y\": 0.0}, {\"x\": -5.393939393939394, \"type\": \"fx\", \"y\": 0.0}, {\"x\": -5.2727272727272725, \"type\": \"fx\", \"y\": 0.0}, {\"x\": -5.151515151515151, \"type\": \"fx\", \"y\": 0.0}, {\"x\": -5.03030303030303, \"type\": \"fx\", \"y\": 0.0}, {\"x\": -4.909090909090909, \"type\": \"fx\", \"y\": 0.0}, {\"x\": -4.787878787878788, \"type\": \"fx\", \"y\": 0.0}, {\"x\": -4.666666666666666, \"type\": \"fx\", \"y\": 0.0}, {\"x\": -4.545454545454545, \"type\": \"fx\", \"y\": 0.0}, {\"x\": -4.424242424242424, \"type\": \"fx\", \"y\": 0.0}, {\"x\": -4.303030303030303, \"type\": \"fx\", \"y\": 0.0}, {\"x\": -4.181818181818182, \"type\": \"fx\", \"y\": 0.0}, {\"x\": -4.0606060606060606, \"type\": \"fx\", \"y\": 0.0}, {\"x\": -3.9393939393939394, \"type\": \"fx\", \"y\": 0.0}, {\"x\": -3.8181818181818183, \"type\": \"fx\", \"y\": 0.0}, {\"x\": -3.696969696969697, \"type\": \"fx\", \"y\": 0.0}, {\"x\": -3.5757575757575757, \"type\": \"fx\", \"y\": 0.0}, {\"x\": -3.4545454545454546, \"type\": \"fx\", \"y\": 0.0}, {\"x\": -3.333333333333333, \"type\": \"fx\", \"y\": 0.0}, {\"x\": -3.212121212121212, \"type\": \"fx\", \"y\": 0.0}, {\"x\": -3.090909090909091, \"type\": \"fx\", \"y\": 0.0}, {\"x\": -2.9696969696969697, \"type\": \"fx\", \"y\": 0.0}, {\"x\": -2.8484848484848486, \"type\": \"fx\", \"y\": 0.0}, {\"x\": -2.727272727272727, \"type\": \"fx\", \"y\": 0.0}, {\"x\": -2.606060606060606, \"type\": \"fx\", \"y\": 0.0}, {\"x\": -2.484848484848485, \"type\": \"fx\", \"y\": 0.0}, {\"x\": -2.3636363636363633, \"type\": \"fx\", \"y\": 0.0}, {\"x\": -2.242424242424242, \"type\": \"fx\", \"y\": 0.0}, {\"x\": -2.121212121212121, \"type\": \"fx\", \"y\": 0.0}, {\"x\": -2.0, \"type\": \"fx\", \"y\": 0.0}, {\"x\": -1.878787878787879, \"type\": \"fx\", \"y\": 0.0}, {\"x\": -1.7575757575757578, \"type\": \"fx\", \"y\": 0.0}, {\"x\": -1.6363636363636367, \"type\": \"fx\", \"y\": 0.0}, {\"x\": -1.5151515151515147, \"type\": \"fx\", \"y\": 0.0}, {\"x\": -1.3939393939393936, \"type\": \"fx\", \"y\": 0.0}, {\"x\": -1.2727272727272725, \"type\": \"fx\", \"y\": 0.0}, {\"x\": -1.1515151515151514, \"type\": \"fx\", \"y\": 0.0}, {\"x\": -1.0303030303030303, \"type\": \"fx\", \"y\": 0.0}, {\"x\": -0.9090909090909092, \"type\": \"fx\", \"y\": 0.0}, {\"x\": -0.7878787878787881, \"type\": \"fx\", \"y\": 0.0}, {\"x\": -0.6666666666666661, \"type\": \"fx\", \"y\": 0.0}, {\"x\": -0.545454545454545, \"type\": \"fx\", \"y\": 0.0}, {\"x\": -0.42424242424242387, \"type\": \"fx\", \"y\": 0.0}, {\"x\": -0.30303030303030276, \"type\": \"fx\", \"y\": 0.0}, {\"x\": -0.18181818181818166, \"type\": \"fx\", \"y\": 0.0}, {\"x\": -0.06060606060606055, \"type\": \"fx\", \"y\": 0.0}, {\"x\": 0.06060606060606055, \"type\": \"fx\", \"y\": 0.06060606060606055}, {\"x\": 0.18181818181818166, \"type\": \"fx\", \"y\": 0.18181818181818166}, {\"x\": 0.30303030303030276, \"type\": \"fx\", \"y\": 0.30303030303030276}, {\"x\": 0.42424242424242475, \"type\": \"fx\", \"y\": 0.42424242424242475}, {\"x\": 0.5454545454545459, \"type\": \"fx\", \"y\": 0.5454545454545459}, {\"x\": 0.666666666666667, \"type\": \"fx\", \"y\": 0.666666666666667}, {\"x\": 0.7878787878787881, \"type\": \"fx\", \"y\": 0.7878787878787881}, {\"x\": 0.9090909090909092, \"type\": \"fx\", \"y\": 0.9090909090909092}, {\"x\": 1.0303030303030303, \"type\": \"fx\", \"y\": 1.0303030303030303}, {\"x\": 1.1515151515151514, \"type\": \"fx\", \"y\": 1.1515151515151514}, {\"x\": 1.2727272727272734, \"type\": \"fx\", \"y\": 1.2727272727272734}, {\"x\": 1.3939393939393945, \"type\": \"fx\", \"y\": 1.3939393939393945}, {\"x\": 1.5151515151515156, \"type\": \"fx\", \"y\": 1.5151515151515156}, {\"x\": 1.6363636363636367, \"type\": \"fx\", \"y\": 1.6363636363636367}, {\"x\": 1.7575757575757578, \"type\": \"fx\", \"y\": 1.7575757575757578}, {\"x\": 1.878787878787879, \"type\": \"fx\", \"y\": 1.878787878787879}, {\"x\": 2.0, \"type\": \"fx\", \"y\": 2.0}, {\"x\": 2.121212121212121, \"type\": \"fx\", \"y\": 2.121212121212121}, {\"x\": 2.242424242424242, \"type\": \"fx\", \"y\": 2.242424242424242}, {\"x\": 2.3636363636363633, \"type\": \"fx\", \"y\": 2.3636363636363633}, {\"x\": 2.4848484848484844, \"type\": \"fx\", \"y\": 2.4848484848484844}, {\"x\": 2.6060606060606055, \"type\": \"fx\", \"y\": 2.6060606060606055}, {\"x\": 2.7272727272727266, \"type\": \"fx\", \"y\": 2.7272727272727266}, {\"x\": 2.8484848484848495, \"type\": \"fx\", \"y\": 2.8484848484848495}, {\"x\": 2.9696969696969706, \"type\": \"fx\", \"y\": 2.9696969696969706}, {\"x\": 3.0909090909090917, \"type\": \"fx\", \"y\": 3.0909090909090917}, {\"x\": 3.212121212121213, \"type\": \"fx\", \"y\": 3.212121212121213}, {\"x\": 3.333333333333334, \"type\": \"fx\", \"y\": 3.333333333333334}, {\"x\": 3.454545454545455, \"type\": \"fx\", \"y\": 3.454545454545455}, {\"x\": 3.575757575757576, \"type\": \"fx\", \"y\": 3.575757575757576}, {\"x\": 3.6969696969696972, \"type\": \"fx\", \"y\": 3.6969696969696972}, {\"x\": 3.8181818181818183, \"type\": \"fx\", \"y\": 3.8181818181818183}, {\"x\": 3.9393939393939394, \"type\": \"fx\", \"y\": 3.9393939393939394}, {\"x\": 4.0606060606060606, \"type\": \"fx\", \"y\": 4.0606060606060606}, {\"x\": 4.181818181818182, \"type\": \"fx\", \"y\": 4.181818181818182}, {\"x\": 4.303030303030303, \"type\": \"fx\", \"y\": 4.303030303030303}, {\"x\": 4.424242424242424, \"type\": \"fx\", \"y\": 4.424242424242424}, {\"x\": 4.545454545454545, \"type\": \"fx\", \"y\": 4.545454545454545}, {\"x\": 4.666666666666668, \"type\": \"fx\", \"y\": 4.666666666666668}, {\"x\": 4.787878787878789, \"type\": \"fx\", \"y\": 4.787878787878789}, {\"x\": 4.90909090909091, \"type\": \"fx\", \"y\": 4.90909090909091}, {\"x\": 5.030303030303031, \"type\": \"fx\", \"y\": 5.030303030303031}, {\"x\": 5.151515151515152, \"type\": \"fx\", \"y\": 5.151515151515152}, {\"x\": 5.272727272727273, \"type\": \"fx\", \"y\": 5.272727272727273}, {\"x\": 5.3939393939393945, \"type\": \"fx\", \"y\": 5.3939393939393945}, {\"x\": 5.515151515151516, \"type\": \"fx\", \"y\": 5.515151515151516}, {\"x\": 5.636363636363637, \"type\": \"fx\", \"y\": 5.636363636363637}, {\"x\": 5.757575757575758, \"type\": \"fx\", \"y\": 5.757575757575758}, {\"x\": 5.878787878787879, \"type\": \"fx\", \"y\": 5.878787878787879}, {\"x\": 6.0, \"type\": \"fx\", \"y\": 6.0}, {\"x\": -6.0, \"type\": \"dfx\", \"y\": 0.0}, {\"x\": -5.878787878787879, \"type\": \"dfx\", \"y\": 0.0}, {\"x\": -5.757575757575758, \"type\": \"dfx\", \"y\": 0.0}, {\"x\": -5.636363636363637, \"type\": \"dfx\", \"y\": 0.0}, {\"x\": -5.515151515151516, \"type\": \"dfx\", \"y\": 0.0}, {\"x\": -5.393939393939394, \"type\": \"dfx\", \"y\": 0.0}, {\"x\": -5.2727272727272725, \"type\": \"dfx\", \"y\": 0.0}, {\"x\": -5.151515151515151, \"type\": \"dfx\", \"y\": 0.0}, {\"x\": -5.03030303030303, \"type\": \"dfx\", \"y\": 0.0}, {\"x\": -4.909090909090909, \"type\": \"dfx\", \"y\": 0.0}, {\"x\": -4.787878787878788, \"type\": \"dfx\", \"y\": 0.0}, {\"x\": -4.666666666666666, \"type\": \"dfx\", \"y\": 0.0}, {\"x\": -4.545454545454545, \"type\": \"dfx\", \"y\": 0.0}, {\"x\": -4.424242424242424, \"type\": \"dfx\", \"y\": 0.0}, {\"x\": -4.303030303030303, \"type\": \"dfx\", \"y\": 0.0}, {\"x\": -4.181818181818182, \"type\": \"dfx\", \"y\": 0.0}, {\"x\": -4.0606060606060606, \"type\": \"dfx\", \"y\": 0.0}, {\"x\": -3.9393939393939394, \"type\": \"dfx\", \"y\": 0.0}, {\"x\": -3.8181818181818183, \"type\": \"dfx\", \"y\": 0.0}, {\"x\": -3.696969696969697, \"type\": \"dfx\", \"y\": 0.0}, {\"x\": -3.5757575757575757, \"type\": \"dfx\", \"y\": 0.0}, {\"x\": -3.4545454545454546, \"type\": \"dfx\", \"y\": 0.0}, {\"x\": -3.333333333333333, \"type\": \"dfx\", \"y\": 0.0}, {\"x\": -3.212121212121212, \"type\": \"dfx\", \"y\": 0.0}, {\"x\": -3.090909090909091, \"type\": \"dfx\", \"y\": 0.0}, {\"x\": -2.9696969696969697, \"type\": \"dfx\", \"y\": 0.0}, {\"x\": -2.8484848484848486, \"type\": \"dfx\", \"y\": 0.0}, {\"x\": -2.727272727272727, \"type\": \"dfx\", \"y\": 0.0}, {\"x\": -2.606060606060606, \"type\": \"dfx\", \"y\": 0.0}, {\"x\": -2.484848484848485, \"type\": \"dfx\", \"y\": 0.0}, {\"x\": -2.3636363636363633, \"type\": \"dfx\", \"y\": 0.0}, {\"x\": -2.242424242424242, \"type\": \"dfx\", \"y\": 0.0}, {\"x\": -2.121212121212121, \"type\": \"dfx\", \"y\": 0.0}, {\"x\": -2.0, \"type\": \"dfx\", \"y\": 0.0}, {\"x\": -1.878787878787879, \"type\": \"dfx\", \"y\": 0.0}, {\"x\": -1.7575757575757578, \"type\": \"dfx\", \"y\": 0.0}, {\"x\": -1.6363636363636367, \"type\": \"dfx\", \"y\": 0.0}, {\"x\": -1.5151515151515147, \"type\": \"dfx\", \"y\": 0.0}, {\"x\": -1.3939393939393936, \"type\": \"dfx\", \"y\": 0.0}, {\"x\": -1.2727272727272725, \"type\": \"dfx\", \"y\": 0.0}, {\"x\": -1.1515151515151514, \"type\": \"dfx\", \"y\": 0.0}, {\"x\": -1.0303030303030303, \"type\": \"dfx\", \"y\": 0.0}, {\"x\": -0.9090909090909092, \"type\": \"dfx\", \"y\": 0.0}, {\"x\": -0.7878787878787881, \"type\": \"dfx\", \"y\": 0.0}, {\"x\": -0.6666666666666661, \"type\": \"dfx\", \"y\": 0.0}, {\"x\": -0.545454545454545, \"type\": \"dfx\", \"y\": 0.0}, {\"x\": -0.42424242424242387, \"type\": \"dfx\", \"y\": 0.0}, {\"x\": -0.30303030303030276, \"type\": \"dfx\", \"y\": 0.0}, {\"x\": -0.18181818181818166, \"type\": \"dfx\", \"y\": 0.0}, {\"x\": -0.06060606060606055, \"type\": \"dfx\", \"y\": 0.0}, {\"x\": 0.06060606060606055, \"type\": \"dfx\", \"y\": 1.0}, {\"x\": 0.18181818181818166, \"type\": \"dfx\", \"y\": 1.0}, {\"x\": 0.30303030303030276, \"type\": \"dfx\", \"y\": 1.0}, {\"x\": 0.42424242424242475, \"type\": \"dfx\", \"y\": 1.0}, {\"x\": 0.5454545454545459, \"type\": \"dfx\", \"y\": 1.0}, {\"x\": 0.666666666666667, \"type\": \"dfx\", \"y\": 1.0}, {\"x\": 0.7878787878787881, \"type\": \"dfx\", \"y\": 1.0}, {\"x\": 0.9090909090909092, \"type\": \"dfx\", \"y\": 1.0}, {\"x\": 1.0303030303030303, \"type\": \"dfx\", \"y\": 1.0}, {\"x\": 1.1515151515151514, \"type\": \"dfx\", \"y\": 1.0}, {\"x\": 1.2727272727272734, \"type\": \"dfx\", \"y\": 1.0}, {\"x\": 1.3939393939393945, \"type\": \"dfx\", \"y\": 1.0}, {\"x\": 1.5151515151515156, \"type\": \"dfx\", \"y\": 1.0}, {\"x\": 1.6363636363636367, \"type\": \"dfx\", \"y\": 1.0}, {\"x\": 1.7575757575757578, \"type\": \"dfx\", \"y\": 1.0}, {\"x\": 1.878787878787879, \"type\": \"dfx\", \"y\": 1.0}, {\"x\": 2.0, \"type\": \"dfx\", \"y\": 1.0}, {\"x\": 2.121212121212121, \"type\": \"dfx\", \"y\": 1.0}, {\"x\": 2.242424242424242, \"type\": \"dfx\", \"y\": 1.0}, {\"x\": 2.3636363636363633, \"type\": \"dfx\", \"y\": 1.0}, {\"x\": 2.4848484848484844, \"type\": \"dfx\", \"y\": 1.0}, {\"x\": 2.6060606060606055, \"type\": \"dfx\", \"y\": 1.0}, {\"x\": 2.7272727272727266, \"type\": \"dfx\", \"y\": 1.0}, {\"x\": 2.8484848484848495, \"type\": \"dfx\", \"y\": 1.0}, {\"x\": 2.9696969696969706, \"type\": \"dfx\", \"y\": 1.0}, {\"x\": 3.0909090909090917, \"type\": \"dfx\", \"y\": 1.0}, {\"x\": 3.212121212121213, \"type\": \"dfx\", \"y\": 1.0}, {\"x\": 3.333333333333334, \"type\": \"dfx\", \"y\": 1.0}, {\"x\": 3.454545454545455, \"type\": \"dfx\", \"y\": 1.0}, {\"x\": 3.575757575757576, \"type\": \"dfx\", \"y\": 1.0}, {\"x\": 3.6969696969696972, \"type\": \"dfx\", \"y\": 1.0}, {\"x\": 3.8181818181818183, \"type\": \"dfx\", \"y\": 1.0}, {\"x\": 3.9393939393939394, \"type\": \"dfx\", \"y\": 1.0}, {\"x\": 4.0606060606060606, \"type\": \"dfx\", \"y\": 1.0}, {\"x\": 4.181818181818182, \"type\": \"dfx\", \"y\": 1.0}, {\"x\": 4.303030303030303, \"type\": \"dfx\", \"y\": 1.0}, {\"x\": 4.424242424242424, \"type\": \"dfx\", \"y\": 1.0}, {\"x\": 4.545454545454545, \"type\": \"dfx\", \"y\": 1.0}, {\"x\": 4.666666666666668, \"type\": \"dfx\", \"y\": 1.0}, {\"x\": 4.787878787878789, \"type\": \"dfx\", \"y\": 1.0}, {\"x\": 4.90909090909091, \"type\": \"dfx\", \"y\": 1.0}, {\"x\": 5.030303030303031, \"type\": \"dfx\", \"y\": 1.0}, {\"x\": 5.151515151515152, \"type\": \"dfx\", \"y\": 1.0}, {\"x\": 5.272727272727273, \"type\": \"dfx\", \"y\": 1.0}, {\"x\": 5.3939393939393945, \"type\": \"dfx\", \"y\": 1.0}, {\"x\": 5.515151515151516, \"type\": \"dfx\", \"y\": 1.0}, {\"x\": 5.636363636363637, \"type\": \"dfx\", \"y\": 1.0}, {\"x\": 5.757575757575758, \"type\": \"dfx\", \"y\": 1.0}, {\"x\": 5.878787878787879, \"type\": \"dfx\", \"y\": 1.0}, {\"x\": 6.0, \"type\": \"dfx\", \"y\": 1.0}]}}, {\"mode\": \"vega-lite\"});\n",
              "</script>"
            ],
            "text/plain": [
              "alt.HConcatChart(...)"
            ]
          },
          "metadata": {},
          "execution_count": 7
        }
      ]
    },
    {
      "cell_type": "markdown",
      "source": [
        "## Save and donwload saved file"
      ],
      "metadata": {
        "id": "G1TX0ARpdUZQ"
      }
    },
    {
      "cell_type": "code",
      "source": [
        "filename = \"activations.html\"\n",
        "fig.save(filename)"
      ],
      "metadata": {
        "id": "SzYpcmAIoBmk"
      },
      "execution_count": 8,
      "outputs": []
    },
    {
      "cell_type": "code",
      "source": [
        "from google.colab import files\n",
        "files.download(\"activations.html\")"
      ],
      "metadata": {
        "colab": {
          "base_uri": "https://localhost:8080/",
          "height": 17
        },
        "id": "lNvpvIxeTmxY",
        "outputId": "b25b554a-0de2-4378-e095-22f1fdd47a87"
      },
      "execution_count": 9,
      "outputs": [
        {
          "output_type": "display_data",
          "data": {
            "text/plain": [
              "<IPython.core.display.Javascript object>"
            ],
            "application/javascript": [
              "\n",
              "    async function download(id, filename, size) {\n",
              "      if (!google.colab.kernel.accessAllowed) {\n",
              "        return;\n",
              "      }\n",
              "      const div = document.createElement('div');\n",
              "      const label = document.createElement('label');\n",
              "      label.textContent = `Downloading \"${filename}\": `;\n",
              "      div.appendChild(label);\n",
              "      const progress = document.createElement('progress');\n",
              "      progress.max = size;\n",
              "      div.appendChild(progress);\n",
              "      document.body.appendChild(div);\n",
              "\n",
              "      const buffers = [];\n",
              "      let downloaded = 0;\n",
              "\n",
              "      const channel = await google.colab.kernel.comms.open(id);\n",
              "      // Send a message to notify the kernel that we're ready.\n",
              "      channel.send({})\n",
              "\n",
              "      for await (const message of channel.messages) {\n",
              "        // Send a message to notify the kernel that we're ready.\n",
              "        channel.send({})\n",
              "        if (message.buffers) {\n",
              "          for (const buffer of message.buffers) {\n",
              "            buffers.push(buffer);\n",
              "            downloaded += buffer.byteLength;\n",
              "            progress.value = downloaded;\n",
              "          }\n",
              "        }\n",
              "      }\n",
              "      const blob = new Blob(buffers, {type: 'application/binary'});\n",
              "      const a = document.createElement('a');\n",
              "      a.href = window.URL.createObjectURL(blob);\n",
              "      a.download = filename;\n",
              "      div.appendChild(a);\n",
              "      a.click();\n",
              "      div.remove();\n",
              "    }\n",
              "  "
            ]
          },
          "metadata": {}
        },
        {
          "output_type": "display_data",
          "data": {
            "text/plain": [
              "<IPython.core.display.Javascript object>"
            ],
            "application/javascript": [
              "download(\"download_1873bbba-fec5-48ad-b466-4934146f69e0\", \"activations.html\", 43253)"
            ]
          },
          "metadata": {}
        }
      ]
    },
    {
      "cell_type": "code",
      "source": [],
      "metadata": {
        "id": "zwH23LSfT6WW"
      },
      "execution_count": 9,
      "outputs": []
    }
  ]
}